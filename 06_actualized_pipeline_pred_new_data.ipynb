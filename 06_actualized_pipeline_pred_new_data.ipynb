{
  "nbformat": 4,
  "nbformat_minor": 0,
  "metadata": {
    "colab": {
      "provenance": [],
      "collapsed_sections": [
        "rXUYdlPbmZeO",
        "k8ELfepUnfmG"
      ],
      "authorship_tag": "ABX9TyPRNObIQXQnwrBDJ88eF7Mw",
      "include_colab_link": true
    },
    "kernelspec": {
      "name": "python3",
      "display_name": "Python 3"
    },
    "language_info": {
      "name": "python"
    }
  },
  "cells": [
    {
      "cell_type": "markdown",
      "metadata": {
        "id": "view-in-github",
        "colab_type": "text"
      },
      "source": [
        "<a href=\"https://colab.research.google.com/github/SEREMM/funcs_proj_box/blob/master/06_actualized_pipeline_pred_new_data.ipynb\" target=\"_parent\"><img src=\"https://colab.research.google.com/assets/colab-badge.svg\" alt=\"Open In Colab\"/></a>"
      ]
    },
    {
      "cell_type": "code",
      "source": [
        "import pandas as pd\n",
        "import numpy as np\n",
        "import matplotlib.pyplot as plt\n",
        "import seaborn as sns\n",
        "%xmode verbose\n",
        "import warnings\n",
        "warnings.filterwarnings(\"ignore\")\n",
        "## importar repositorio de evaluacion de libro\n",
        "!wget https://raw.githubusercontent.com/hundredblocks/ml-powered-applications/master/ml_editor/model_evaluation.py\n",
        "from model_evaluation import get_metrics, get_confusion_matrix_plot, get_roc_plot,\\\n",
        "get_calibration_plot, get_feature_importance\n",
        "# Use the raw URL of the Python file\n",
        "!wget https://raw.githubusercontent.com/SEREMM/funcs_proj_box/master/funciones_box_data.py\n",
        "from funciones_box_data import cross_val, feat_eng, One_hot_encoder,\\\n",
        "Data_clusterer, Model_applied, check_fails_and_probas"
      ],
      "metadata": {
        "colab": {
          "base_uri": "https://localhost:8080/"
        },
        "id": "3KxLewmm7w2f",
        "outputId": "53b95550-a7c2-42f3-ae95-b6458971e16a"
      },
      "execution_count": null,
      "outputs": [
        {
          "output_type": "stream",
          "name": "stdout",
          "text": [
            "Exception reporting mode: Verbose\n",
            "--2023-07-25 15:55:30--  https://raw.githubusercontent.com/hundredblocks/ml-powered-applications/master/ml_editor/model_evaluation.py\n",
            "Resolving raw.githubusercontent.com (raw.githubusercontent.com)... 185.199.108.133, 185.199.109.133, 185.199.110.133, ...\n",
            "Connecting to raw.githubusercontent.com (raw.githubusercontent.com)|185.199.108.133|:443... connected.\n",
            "HTTP request sent, awaiting response... 200 OK\n",
            "Length: 8593 (8.4K) [text/plain]\n",
            "Saving to: ‘model_evaluation.py’\n",
            "\n",
            "model_evaluation.py 100%[===================>]   8.39K  --.-KB/s    in 0s      \n",
            "\n",
            "2023-07-25 15:55:30 (49.9 MB/s) - ‘model_evaluation.py’ saved [8593/8593]\n",
            "\n",
            "--2023-07-25 15:55:31--  https://raw.githubusercontent.com/SEREMM/funcs_proj_box/master/funciones_box_data.py\n",
            "Resolving raw.githubusercontent.com (raw.githubusercontent.com)... 185.199.109.133, 185.199.110.133, 185.199.108.133, ...\n",
            "Connecting to raw.githubusercontent.com (raw.githubusercontent.com)|185.199.109.133|:443... connected.\n",
            "HTTP request sent, awaiting response... 200 OK\n",
            "Length: 6923 (6.8K) [text/plain]\n",
            "Saving to: ‘funciones_box_data.py’\n",
            "\n",
            "funciones_box_data. 100%[===================>]   6.76K  --.-KB/s    in 0s      \n",
            "\n",
            "2023-07-25 15:55:31 (56.7 MB/s) - ‘funciones_box_data.py’ saved [6923/6923]\n",
            "\n"
          ]
        }
      ]
    },
    {
      "cell_type": "markdown",
      "source": [
        "#### prep data"
      ],
      "metadata": {
        "id": "_MrDCe-NmWzD"
      }
    },
    {
      "cell_type": "code",
      "source": [
        "# df = pd.read_csv('box_data_duplicated_not_draw_vectorized.csv')\n",
        "df = pd.read_csv('boxing_df_duplicated_not_draw_to_feat_eng.csv')"
      ],
      "metadata": {
        "id": "I8hyUQxtASs4"
      },
      "execution_count": null,
      "outputs": []
    },
    {
      "cell_type": "code",
      "source": [
        "y_df = df[['result','endtype','endround']]\n",
        "y_df.drop(columns='endround', inplace=True)\n",
        "x_df = df.drop(columns=['result','endtype','endround'])"
      ],
      "metadata": {
        "id": "cNhS2d0oAc3e"
      },
      "execution_count": null,
      "outputs": []
    },
    {
      "cell_type": "code",
      "source": [
        "y_df = y_df.result.replace({'loss':-1,'win':1})"
      ],
      "metadata": {
        "id": "c2RouapdxYJr"
      },
      "execution_count": null,
      "outputs": []
    },
    {
      "cell_type": "code",
      "source": [
        "from sklearn.model_selection import train_test_split\n",
        "# train data\n",
        "xtrain,xval,ytrain,yval = train_test_split(x_df,y_df, test_size=.35,\n",
        "                                           random_state=40, stratify=y_df)\n",
        "# val test data\n",
        "xval,xtest,yval,ytest = train_test_split(xval,yval, test_size=.15,\n",
        "                                           random_state=40, stratify=yval)\n",
        "# xl data\n",
        "xl_train,xl_test,yl_train,yl_test = train_test_split(x_df,y_df, test_size=.30,\n",
        "                                           random_state=40, stratify=y_df)"
      ],
      "metadata": {
        "id": "Ak_1nuhKRo0o"
      },
      "execution_count": null,
      "outputs": []
    },
    {
      "cell_type": "markdown",
      "source": [
        "#### 1st pipeline : ranfor"
      ],
      "metadata": {
        "id": "rXUYdlPbmZeO"
      }
    },
    {
      "cell_type": "code",
      "source": [
        "from sklearn.feature_extraction.text import CountVectorizer\n",
        "\n",
        "vecto_reg = CountVectorizer(binary=True)\n",
        "regiones = ['north america','usa','mexico','caribe','latin america',\n",
        "            'south america','argentina',\n",
        "            'uk','west europe','north europe','east europe',\n",
        "            'north africa','south africa',\n",
        "            'west asia','ukraine','russia','middle asia','east asia',\n",
        "            'oceania','pacific']\n",
        "vecto_reg.fit(regiones)\n",
        "\n",
        "vecto_style = CountVectorizer(binary=True)\n",
        "estilos = ['puncher','aggressive','brawler','pressure',\n",
        "          'technical','slugger','swarmer','slick','counter','defensive']\n",
        "vecto_style.fit(estilos)\n",
        "\n",
        "vecto_pos = CountVectorizer(binary=True)\n",
        "postura = ['orthodox','southpaw']\n",
        "vecto_pos.fit(postura)"
      ],
      "metadata": {
        "colab": {
          "base_uri": "https://localhost:8080/",
          "height": 75
        },
        "id": "xWYrbcgnC2xt",
        "outputId": "1bac66e4-023f-4beb-d233-bd2b341e66b7"
      },
      "execution_count": null,
      "outputs": [
        {
          "output_type": "execute_result",
          "data": {
            "text/plain": [
              "CountVectorizer(binary=True)"
            ],
            "text/html": [
              "<style>#sk-container-id-1 {color: black;background-color: white;}#sk-container-id-1 pre{padding: 0;}#sk-container-id-1 div.sk-toggleable {background-color: white;}#sk-container-id-1 label.sk-toggleable__label {cursor: pointer;display: block;width: 100%;margin-bottom: 0;padding: 0.3em;box-sizing: border-box;text-align: center;}#sk-container-id-1 label.sk-toggleable__label-arrow:before {content: \"▸\";float: left;margin-right: 0.25em;color: #696969;}#sk-container-id-1 label.sk-toggleable__label-arrow:hover:before {color: black;}#sk-container-id-1 div.sk-estimator:hover label.sk-toggleable__label-arrow:before {color: black;}#sk-container-id-1 div.sk-toggleable__content {max-height: 0;max-width: 0;overflow: hidden;text-align: left;background-color: #f0f8ff;}#sk-container-id-1 div.sk-toggleable__content pre {margin: 0.2em;color: black;border-radius: 0.25em;background-color: #f0f8ff;}#sk-container-id-1 input.sk-toggleable__control:checked~div.sk-toggleable__content {max-height: 200px;max-width: 100%;overflow: auto;}#sk-container-id-1 input.sk-toggleable__control:checked~label.sk-toggleable__label-arrow:before {content: \"▾\";}#sk-container-id-1 div.sk-estimator input.sk-toggleable__control:checked~label.sk-toggleable__label {background-color: #d4ebff;}#sk-container-id-1 div.sk-label input.sk-toggleable__control:checked~label.sk-toggleable__label {background-color: #d4ebff;}#sk-container-id-1 input.sk-hidden--visually {border: 0;clip: rect(1px 1px 1px 1px);clip: rect(1px, 1px, 1px, 1px);height: 1px;margin: -1px;overflow: hidden;padding: 0;position: absolute;width: 1px;}#sk-container-id-1 div.sk-estimator {font-family: monospace;background-color: #f0f8ff;border: 1px dotted black;border-radius: 0.25em;box-sizing: border-box;margin-bottom: 0.5em;}#sk-container-id-1 div.sk-estimator:hover {background-color: #d4ebff;}#sk-container-id-1 div.sk-parallel-item::after {content: \"\";width: 100%;border-bottom: 1px solid gray;flex-grow: 1;}#sk-container-id-1 div.sk-label:hover label.sk-toggleable__label {background-color: #d4ebff;}#sk-container-id-1 div.sk-serial::before {content: \"\";position: absolute;border-left: 1px solid gray;box-sizing: border-box;top: 0;bottom: 0;left: 50%;z-index: 0;}#sk-container-id-1 div.sk-serial {display: flex;flex-direction: column;align-items: center;background-color: white;padding-right: 0.2em;padding-left: 0.2em;position: relative;}#sk-container-id-1 div.sk-item {position: relative;z-index: 1;}#sk-container-id-1 div.sk-parallel {display: flex;align-items: stretch;justify-content: center;background-color: white;position: relative;}#sk-container-id-1 div.sk-item::before, #sk-container-id-1 div.sk-parallel-item::before {content: \"\";position: absolute;border-left: 1px solid gray;box-sizing: border-box;top: 0;bottom: 0;left: 50%;z-index: -1;}#sk-container-id-1 div.sk-parallel-item {display: flex;flex-direction: column;z-index: 1;position: relative;background-color: white;}#sk-container-id-1 div.sk-parallel-item:first-child::after {align-self: flex-end;width: 50%;}#sk-container-id-1 div.sk-parallel-item:last-child::after {align-self: flex-start;width: 50%;}#sk-container-id-1 div.sk-parallel-item:only-child::after {width: 0;}#sk-container-id-1 div.sk-dashed-wrapped {border: 1px dashed gray;margin: 0 0.4em 0.5em 0.4em;box-sizing: border-box;padding-bottom: 0.4em;background-color: white;}#sk-container-id-1 div.sk-label label {font-family: monospace;font-weight: bold;display: inline-block;line-height: 1.2em;}#sk-container-id-1 div.sk-label-container {text-align: center;}#sk-container-id-1 div.sk-container {/* jupyter's `normalize.less` sets `[hidden] { display: none; }` but bootstrap.min.css set `[hidden] { display: none !important; }` so we also need the `!important` here to be able to override the default hidden behavior on the sphinx rendered scikit-learn.org. See: https://github.com/scikit-learn/scikit-learn/issues/21755 */display: inline-block !important;position: relative;}#sk-container-id-1 div.sk-text-repr-fallback {display: none;}</style><div id=\"sk-container-id-1\" class=\"sk-top-container\"><div class=\"sk-text-repr-fallback\"><pre>CountVectorizer(binary=True)</pre><b>In a Jupyter environment, please rerun this cell to show the HTML representation or trust the notebook. <br />On GitHub, the HTML representation is unable to render, please try loading this page with nbviewer.org.</b></div><div class=\"sk-container\" hidden><div class=\"sk-item\"><div class=\"sk-estimator sk-toggleable\"><input class=\"sk-toggleable__control sk-hidden--visually\" id=\"sk-estimator-id-1\" type=\"checkbox\" checked><label for=\"sk-estimator-id-1\" class=\"sk-toggleable__label sk-toggleable__label-arrow\">CountVectorizer</label><div class=\"sk-toggleable__content\"><pre>CountVectorizer(binary=True)</pre></div></div></div></div></div>"
            ]
          },
          "metadata": {},
          "execution_count": 6
        }
      ]
    },
    {
      "cell_type": "code",
      "source": [
        "# feature engineering\n",
        "xtrain_0 = feat_eng(xtrain)\n",
        "\n",
        "# vectorizacion\n",
        "encoder = One_hot_encoder(vecto_reg, vecto_pos, vecto_style)\n",
        "xtrain_1 = encoder.transform(X=xtrain_0)\n",
        "\n",
        "from sklearn.cluster import KMeans\n",
        "\n",
        "clus = KMeans(n_clusters=5, random_state=10)\n",
        "clus.fit(xtrain_1)\n",
        "cluster = Data_clusterer(clus)\n",
        "xtrain_2 = cluster.transform(xtrain_1)\n",
        "\n",
        "from sklearn.preprocessing import StandardScaler\n",
        "\n",
        "scaler = StandardScaler()\n",
        "xtrain_3 = scaler.fit_transform(xtrain_2)\n",
        "\n",
        "from sklearn.ensemble import RandomForestClassifier\n",
        "\n",
        "ranfor = RandomForestClassifier()\n",
        "\n",
        "ranfor.fit(xtrain_3, ytrain)"
      ],
      "metadata": {
        "id": "LL1StCGX0AYp",
        "colab": {
          "base_uri": "https://localhost:8080/",
          "height": 75
        },
        "outputId": "9c13b85f-c3fc-42b0-bafb-00e6fd495c2a"
      },
      "execution_count": null,
      "outputs": [
        {
          "output_type": "execute_result",
          "data": {
            "text/plain": [
              "RandomForestClassifier()"
            ],
            "text/html": [
              "<style>#sk-container-id-2 {color: black;background-color: white;}#sk-container-id-2 pre{padding: 0;}#sk-container-id-2 div.sk-toggleable {background-color: white;}#sk-container-id-2 label.sk-toggleable__label {cursor: pointer;display: block;width: 100%;margin-bottom: 0;padding: 0.3em;box-sizing: border-box;text-align: center;}#sk-container-id-2 label.sk-toggleable__label-arrow:before {content: \"▸\";float: left;margin-right: 0.25em;color: #696969;}#sk-container-id-2 label.sk-toggleable__label-arrow:hover:before {color: black;}#sk-container-id-2 div.sk-estimator:hover label.sk-toggleable__label-arrow:before {color: black;}#sk-container-id-2 div.sk-toggleable__content {max-height: 0;max-width: 0;overflow: hidden;text-align: left;background-color: #f0f8ff;}#sk-container-id-2 div.sk-toggleable__content pre {margin: 0.2em;color: black;border-radius: 0.25em;background-color: #f0f8ff;}#sk-container-id-2 input.sk-toggleable__control:checked~div.sk-toggleable__content {max-height: 200px;max-width: 100%;overflow: auto;}#sk-container-id-2 input.sk-toggleable__control:checked~label.sk-toggleable__label-arrow:before {content: \"▾\";}#sk-container-id-2 div.sk-estimator input.sk-toggleable__control:checked~label.sk-toggleable__label {background-color: #d4ebff;}#sk-container-id-2 div.sk-label input.sk-toggleable__control:checked~label.sk-toggleable__label {background-color: #d4ebff;}#sk-container-id-2 input.sk-hidden--visually {border: 0;clip: rect(1px 1px 1px 1px);clip: rect(1px, 1px, 1px, 1px);height: 1px;margin: -1px;overflow: hidden;padding: 0;position: absolute;width: 1px;}#sk-container-id-2 div.sk-estimator {font-family: monospace;background-color: #f0f8ff;border: 1px dotted black;border-radius: 0.25em;box-sizing: border-box;margin-bottom: 0.5em;}#sk-container-id-2 div.sk-estimator:hover {background-color: #d4ebff;}#sk-container-id-2 div.sk-parallel-item::after {content: \"\";width: 100%;border-bottom: 1px solid gray;flex-grow: 1;}#sk-container-id-2 div.sk-label:hover label.sk-toggleable__label {background-color: #d4ebff;}#sk-container-id-2 div.sk-serial::before {content: \"\";position: absolute;border-left: 1px solid gray;box-sizing: border-box;top: 0;bottom: 0;left: 50%;z-index: 0;}#sk-container-id-2 div.sk-serial {display: flex;flex-direction: column;align-items: center;background-color: white;padding-right: 0.2em;padding-left: 0.2em;position: relative;}#sk-container-id-2 div.sk-item {position: relative;z-index: 1;}#sk-container-id-2 div.sk-parallel {display: flex;align-items: stretch;justify-content: center;background-color: white;position: relative;}#sk-container-id-2 div.sk-item::before, #sk-container-id-2 div.sk-parallel-item::before {content: \"\";position: absolute;border-left: 1px solid gray;box-sizing: border-box;top: 0;bottom: 0;left: 50%;z-index: -1;}#sk-container-id-2 div.sk-parallel-item {display: flex;flex-direction: column;z-index: 1;position: relative;background-color: white;}#sk-container-id-2 div.sk-parallel-item:first-child::after {align-self: flex-end;width: 50%;}#sk-container-id-2 div.sk-parallel-item:last-child::after {align-self: flex-start;width: 50%;}#sk-container-id-2 div.sk-parallel-item:only-child::after {width: 0;}#sk-container-id-2 div.sk-dashed-wrapped {border: 1px dashed gray;margin: 0 0.4em 0.5em 0.4em;box-sizing: border-box;padding-bottom: 0.4em;background-color: white;}#sk-container-id-2 div.sk-label label {font-family: monospace;font-weight: bold;display: inline-block;line-height: 1.2em;}#sk-container-id-2 div.sk-label-container {text-align: center;}#sk-container-id-2 div.sk-container {/* jupyter's `normalize.less` sets `[hidden] { display: none; }` but bootstrap.min.css set `[hidden] { display: none !important; }` so we also need the `!important` here to be able to override the default hidden behavior on the sphinx rendered scikit-learn.org. See: https://github.com/scikit-learn/scikit-learn/issues/21755 */display: inline-block !important;position: relative;}#sk-container-id-2 div.sk-text-repr-fallback {display: none;}</style><div id=\"sk-container-id-2\" class=\"sk-top-container\"><div class=\"sk-text-repr-fallback\"><pre>RandomForestClassifier()</pre><b>In a Jupyter environment, please rerun this cell to show the HTML representation or trust the notebook. <br />On GitHub, the HTML representation is unable to render, please try loading this page with nbviewer.org.</b></div><div class=\"sk-container\" hidden><div class=\"sk-item\"><div class=\"sk-estimator sk-toggleable\"><input class=\"sk-toggleable__control sk-hidden--visually\" id=\"sk-estimator-id-2\" type=\"checkbox\" checked><label for=\"sk-estimator-id-2\" class=\"sk-toggleable__label sk-toggleable__label-arrow\">RandomForestClassifier</label><div class=\"sk-toggleable__content\"><pre>RandomForestClassifier()</pre></div></div></div></div></div>"
            ]
          },
          "metadata": {},
          "execution_count": 7
        }
      ]
    },
    {
      "cell_type": "code",
      "source": [
        "model = Model_applied(ranfor)\n",
        "\n",
        "x_0 = feat_eng(xtest)\n",
        "x_1 = encoder.transform(x_0)\n",
        "x_clus = cluster.transform(x_1)\n",
        "x_scal = scaler.transform(x_clus)\n",
        "y_pred = model.transform(x_scal)\n",
        "\n",
        "xtest_0 = feat_eng(xtest)\n",
        "xtest_1 = encoder.transform(xtest_0)\n",
        "xtest_clus = cluster.transform(xtest_1)\n",
        "xtest_scal = scaler.transform(xtest_clus)\n",
        "ytest_pred = model.transform(xtest_scal)"
      ],
      "metadata": {
        "id": "nMbOULc5j7_D"
      },
      "execution_count": null,
      "outputs": []
    },
    {
      "cell_type": "code",
      "source": [
        "get_metrics(yl_test, y_pred.boxer1_pred)"
      ],
      "metadata": {
        "colab": {
          "base_uri": "https://localhost:8080/",
          "height": 1000
        },
        "id": "DZwiTZGsvF74",
        "outputId": "9df00e94-e077-4161-d393-a3e7a901a719"
      },
      "execution_count": null,
      "outputs": [
        {
          "output_type": "error",
          "ename": "ValueError",
          "evalue": "ignored",
          "traceback": [
            "\u001b[0;31m---------------------------------------------------------------------------\u001b[0m",
            "\u001b[0;31mValueError\u001b[0m                                Traceback (most recent call last)",
            "\u001b[0;32m<ipython-input-9-d9a3fc648167>\u001b[0m in \u001b[0;36m<cell line: 1>\u001b[0;34m()\u001b[0m\n\u001b[0;32m----> 1\u001b[0;31m \u001b[0mget_metrics\u001b[0m\u001b[0;34m(\u001b[0m\u001b[0myl_test\u001b[0m\u001b[0;34m,\u001b[0m \u001b[0my_pred\u001b[0m\u001b[0;34m.\u001b[0m\u001b[0mboxer1_pred\u001b[0m\u001b[0;34m)\u001b[0m\u001b[0;34m\u001b[0m\u001b[0;34m\u001b[0m\u001b[0m\n\u001b[0m        \u001b[0;36mglobal\u001b[0m \u001b[0;36mget_metrics\u001b[0m \u001b[0;34m= <function get_metrics at 0x7ef0b4297760>\u001b[0m\u001b[0;34m\n        \u001b[0m\u001b[0;36mglobal\u001b[0m \u001b[0;36myl_test\u001b[0m \u001b[0;34m= 2548   -1\n3572   -1\n4863   -1\n4612   -1\n513     1\n       ..\n1195   -1\n4279    1\n818     1\n3386    1\n590    -1\nName: result, Length: 1461, dtype: int64\u001b[0m\u001b[0;34m\n        \u001b[0m\u001b[0;36mglobal\u001b[0m \u001b[0;36my_pred.boxer1_pred\u001b[0m \u001b[0;34m= 0     -1\n1     -1\n2     -1\n3      1\n4      1\n      ..\n251   -1\n252    1\n253   -1\n254   -1\n255   -1\nName: boxer1_pred, Length: 256, dtype: int64\u001b[0m\n",
            "\u001b[0;32m/content/model_evaluation.py\u001b[0m in \u001b[0;36mget_metrics\u001b[0;34m(predicted_y=2548   -1\n3572   -1\n4863   -1\n4612   -1\n513     ...90    -1\nName: result, Length: 1461, dtype: int64, true_y=0     -1\n1     -1\n2     -1\n3      1\n4      1\n   ...  -1\nName: boxer1_pred, Length: 256, dtype: int64)\u001b[0m\n\u001b[1;32m    214\u001b[0m     \"\"\"\n\u001b[1;32m    215\u001b[0m     \u001b[0;31m# true positives / (true positives+false positives)\u001b[0m\u001b[0;34m\u001b[0m\u001b[0;34m\u001b[0m\u001b[0m\n\u001b[0;32m--> 216\u001b[0;31m     precision = precision_score(\n\u001b[0m        \u001b[0;36mprecision\u001b[0m \u001b[0;34m= \u001b[0;36mundefined\u001b[0m\u001b[0m\u001b[0;34m\n        \u001b[0m\u001b[0;36mglobal\u001b[0m \u001b[0;36mprecision_score\u001b[0m \u001b[0;34m= <function precision_score at 0x7ef0b4cd5ab0>\u001b[0m\u001b[0;34m\n        \u001b[0m\u001b[0;36mtrue_y\u001b[0m \u001b[0;34m= 0     -1\n1     -1\n2     -1\n3      1\n4      1\n      ..\n251   -1\n252    1\n253   -1\n254   -1\n255   -1\nName: boxer1_pred, Length: 256, dtype: int64\u001b[0m\u001b[0;34m\n        \u001b[0m\u001b[0;36mpredicted_y\u001b[0m \u001b[0;34m= 2548   -1\n3572   -1\n4863   -1\n4612   -1\n513     1\n       ..\n1195   -1\n4279    1\n818     1\n3386    1\n590    -1\nName: result, Length: 1461, dtype: int64\u001b[0m\u001b[0;34m\n        \u001b[0m\u001b[0;36mglobal\u001b[0m \u001b[0;36mpos_label\u001b[0m \u001b[0;34m= \u001b[0;36mundefined\u001b[0m\u001b[0m\u001b[0;34m\n        \u001b[0m\u001b[0;36mglobal\u001b[0m \u001b[0;36maverage\u001b[0m \u001b[0;34m= \u001b[0;36mundefined\u001b[0m\u001b[0m\n\u001b[1;32m    217\u001b[0m         \u001b[0mtrue_y\u001b[0m\u001b[0;34m,\u001b[0m \u001b[0mpredicted_y\u001b[0m\u001b[0;34m,\u001b[0m \u001b[0mpos_label\u001b[0m\u001b[0;34m=\u001b[0m\u001b[0;32mNone\u001b[0m\u001b[0;34m,\u001b[0m \u001b[0maverage\u001b[0m\u001b[0;34m=\u001b[0m\u001b[0;34m\"weighted\"\u001b[0m\u001b[0;34m\u001b[0m\u001b[0;34m\u001b[0m\u001b[0m\n\u001b[1;32m    218\u001b[0m     )\n",
            "\u001b[0;32m/usr/local/lib/python3.10/dist-packages/sklearn/metrics/_classification.py\u001b[0m in \u001b[0;36mprecision_score\u001b[0;34m(y_true=0     -1\n1     -1\n2     -1\n3      1\n4      1\n   ...  -1\nName: boxer1_pred, Length: 256, dtype: int64, y_pred=2548   -1\n3572   -1\n4863   -1\n4612   -1\n513     ...90    -1\nName: result, Length: 1461, dtype: int64, labels=None, pos_label=None, average='weighted', sample_weight=None, zero_division='warn')\u001b[0m\n\u001b[1;32m   1952\u001b[0m     \u001b[0marray\u001b[0m\u001b[0;34m(\u001b[0m\u001b[0;34m[\u001b[0m\u001b[0;36m0.5\u001b[0m\u001b[0;34m,\u001b[0m \u001b[0;36m1.\u001b[0m \u001b[0;34m,\u001b[0m \u001b[0;36m1.\u001b[0m \u001b[0;34m]\u001b[0m\u001b[0;34m)\u001b[0m\u001b[0;34m\u001b[0m\u001b[0;34m\u001b[0m\u001b[0m\n\u001b[1;32m   1953\u001b[0m     \"\"\"\n\u001b[0;32m-> 1954\u001b[0;31m     p, _, _, _ = precision_recall_fscore_support(\n\u001b[0m        \u001b[0;36mp\u001b[0m \u001b[0;34m= \u001b[0;36mundefined\u001b[0m\u001b[0m\u001b[0;34m\n        \u001b[0m\u001b[0;36m_\u001b[0m \u001b[0;34m= \u001b[0;36mundefined\u001b[0m\u001b[0m\u001b[0;34m\n        \u001b[0m\u001b[0;36mglobal\u001b[0m \u001b[0;36mprecision_recall_fscore_support\u001b[0m \u001b[0;34m= <function precision_recall_fscore_support at 0x7ef0b4cd5990>\u001b[0m\u001b[0;34m\n        \u001b[0m\u001b[0;36my_true\u001b[0m \u001b[0;34m= 0     -1\n1     -1\n2     -1\n3      1\n4      1\n      ..\n251   -1\n252    1\n253   -1\n254   -1\n255   -1\nName: boxer1_pred, Length: 256, dtype: int64\u001b[0m\u001b[0;34m\n        \u001b[0m\u001b[0;36my_pred\u001b[0m \u001b[0;34m= 2548   -1\n3572   -1\n4863   -1\n4612   -1\n513     1\n       ..\n1195   -1\n4279    1\n818     1\n3386    1\n590    -1\nName: result, Length: 1461, dtype: int64\u001b[0m\u001b[0;34m\n        \u001b[0m\u001b[0;36mlabels\u001b[0m \u001b[0;34m= None\u001b[0m\u001b[0;34m\n        \u001b[0m\u001b[0;36mpos_label\u001b[0m \u001b[0;34m= None\u001b[0m\u001b[0;34m\n        \u001b[0m\u001b[0;36maverage\u001b[0m \u001b[0;34m= 'weighted'\u001b[0m\u001b[0;34m\n        \u001b[0m\u001b[0;36mglobal\u001b[0m \u001b[0;36mwarn_for\u001b[0m \u001b[0;34m= \u001b[0;36mundefined\u001b[0m\u001b[0m\u001b[0;34m\n        \u001b[0m\u001b[0;36msample_weight\u001b[0m \u001b[0;34m= None\u001b[0m\u001b[0;34m\n        \u001b[0m\u001b[0;36mzero_division\u001b[0m \u001b[0;34m= 'warn'\u001b[0m\n\u001b[1;32m   1955\u001b[0m         \u001b[0my_true\u001b[0m\u001b[0;34m,\u001b[0m\u001b[0;34m\u001b[0m\u001b[0;34m\u001b[0m\u001b[0m\n\u001b[1;32m   1956\u001b[0m         \u001b[0my_pred\u001b[0m\u001b[0;34m,\u001b[0m\u001b[0;34m\u001b[0m\u001b[0;34m\u001b[0m\u001b[0m\n",
            "\u001b[0;32m/usr/local/lib/python3.10/dist-packages/sklearn/metrics/_classification.py\u001b[0m in \u001b[0;36mprecision_recall_fscore_support\u001b[0;34m(y_true=0     -1\n1     -1\n2     -1\n3      1\n4      1\n   ...  -1\nName: boxer1_pred, Length: 256, dtype: int64, y_pred=2548   -1\n3572   -1\n4863   -1\n4612   -1\n513     ...90    -1\nName: result, Length: 1461, dtype: int64, beta=1.0, labels=None, pos_label=None, average='weighted', warn_for=('precision',), sample_weight=None, zero_division='warn')\u001b[0m\n\u001b[1;32m   1571\u001b[0m     \u001b[0;32mif\u001b[0m \u001b[0mbeta\u001b[0m \u001b[0;34m<\u001b[0m \u001b[0;36m0\u001b[0m\u001b[0;34m:\u001b[0m\u001b[0;34m\u001b[0m\u001b[0;34m\u001b[0m\u001b[0m\n\u001b[1;32m   1572\u001b[0m         \u001b[0;32mraise\u001b[0m \u001b[0mValueError\u001b[0m\u001b[0;34m(\u001b[0m\u001b[0;34m\"beta should be >=0 in the F-beta score\"\u001b[0m\u001b[0;34m)\u001b[0m\u001b[0;34m\u001b[0m\u001b[0;34m\u001b[0m\u001b[0m\n\u001b[0;32m-> 1573\u001b[0;31m     \u001b[0mlabels\u001b[0m \u001b[0;34m=\u001b[0m \u001b[0m_check_set_wise_labels\u001b[0m\u001b[0;34m(\u001b[0m\u001b[0my_true\u001b[0m\u001b[0;34m,\u001b[0m \u001b[0my_pred\u001b[0m\u001b[0;34m,\u001b[0m \u001b[0maverage\u001b[0m\u001b[0;34m,\u001b[0m \u001b[0mlabels\u001b[0m\u001b[0;34m,\u001b[0m \u001b[0mpos_label\u001b[0m\u001b[0;34m)\u001b[0m\u001b[0;34m\u001b[0m\u001b[0;34m\u001b[0m\u001b[0m\n\u001b[0m        \u001b[0;36mlabels\u001b[0m \u001b[0;34m= None\u001b[0m\u001b[0;34m\n        \u001b[0m\u001b[0;36mglobal\u001b[0m \u001b[0;36m_check_set_wise_labels\u001b[0m \u001b[0;34m= <function _check_set_wise_labels at 0x7ef0b4cd5900>\u001b[0m\u001b[0;34m\n        \u001b[0m\u001b[0;36my_true\u001b[0m \u001b[0;34m= 0     -1\n1     -1\n2     -1\n3      1\n4      1\n      ..\n251   -1\n252    1\n253   -1\n254   -1\n255   -1\nName: boxer1_pred, Length: 256, dtype: int64\u001b[0m\u001b[0;34m\n        \u001b[0m\u001b[0;36my_pred\u001b[0m \u001b[0;34m= 2548   -1\n3572   -1\n4863   -1\n4612   -1\n513     1\n       ..\n1195   -1\n4279    1\n818     1\n3386    1\n590    -1\nName: result, Length: 1461, dtype: int64\u001b[0m\u001b[0;34m\n        \u001b[0m\u001b[0;36maverage\u001b[0m \u001b[0;34m= 'weighted'\u001b[0m\u001b[0;34m\n        \u001b[0m\u001b[0;36mpos_label\u001b[0m \u001b[0;34m= None\u001b[0m\n\u001b[1;32m   1574\u001b[0m \u001b[0;34m\u001b[0m\u001b[0m\n\u001b[1;32m   1575\u001b[0m     \u001b[0;31m# Calculate tp_sum, pred_sum, true_sum ###\u001b[0m\u001b[0;34m\u001b[0m\u001b[0;34m\u001b[0m\u001b[0m\n",
            "\u001b[0;32m/usr/local/lib/python3.10/dist-packages/sklearn/metrics/_classification.py\u001b[0m in \u001b[0;36m_check_set_wise_labels\u001b[0;34m(y_true=0     -1\n1     -1\n2     -1\n3      1\n4      1\n   ...  -1\nName: boxer1_pred, Length: 256, dtype: int64, y_pred=2548   -1\n3572   -1\n4863   -1\n4612   -1\n513     ...90    -1\nName: result, Length: 1461, dtype: int64, average='weighted', labels=None, pos_label=None)\u001b[0m\n\u001b[1;32m   1372\u001b[0m         \u001b[0;32mraise\u001b[0m \u001b[0mValueError\u001b[0m\u001b[0;34m(\u001b[0m\u001b[0;34m\"average has to be one of \"\u001b[0m \u001b[0;34m+\u001b[0m \u001b[0mstr\u001b[0m\u001b[0;34m(\u001b[0m\u001b[0maverage_options\u001b[0m\u001b[0;34m)\u001b[0m\u001b[0;34m)\u001b[0m\u001b[0;34m\u001b[0m\u001b[0;34m\u001b[0m\u001b[0m\n\u001b[1;32m   1373\u001b[0m \u001b[0;34m\u001b[0m\u001b[0m\n\u001b[0;32m-> 1374\u001b[0;31m     \u001b[0my_type\u001b[0m\u001b[0;34m,\u001b[0m \u001b[0my_true\u001b[0m\u001b[0;34m,\u001b[0m \u001b[0my_pred\u001b[0m \u001b[0;34m=\u001b[0m \u001b[0m_check_targets\u001b[0m\u001b[0;34m(\u001b[0m\u001b[0my_true\u001b[0m\u001b[0;34m,\u001b[0m \u001b[0my_pred\u001b[0m\u001b[0;34m)\u001b[0m\u001b[0;34m\u001b[0m\u001b[0;34m\u001b[0m\u001b[0m\n\u001b[0m        \u001b[0;36my_type\u001b[0m \u001b[0;34m= \u001b[0;36mundefined\u001b[0m\u001b[0m\u001b[0;34m\n        \u001b[0m\u001b[0;36my_true\u001b[0m \u001b[0;34m= 0     -1\n1     -1\n2     -1\n3      1\n4      1\n      ..\n251   -1\n252    1\n253   -1\n254   -1\n255   -1\nName: boxer1_pred, Length: 256, dtype: int64\u001b[0m\u001b[0;34m\n        \u001b[0m\u001b[0;36my_pred\u001b[0m \u001b[0;34m= 2548   -1\n3572   -1\n4863   -1\n4612   -1\n513     1\n       ..\n1195   -1\n4279    1\n818     1\n3386    1\n590    -1\nName: result, Length: 1461, dtype: int64\u001b[0m\u001b[0;34m\n        \u001b[0m\u001b[0;36mglobal\u001b[0m \u001b[0;36m_check_targets\u001b[0m \u001b[0;34m= <function _check_targets at 0x7ef0b4cd5120>\u001b[0m\n\u001b[1;32m   1375\u001b[0m     \u001b[0;31m# Convert to Python primitive type to avoid NumPy type / Python str\u001b[0m\u001b[0;34m\u001b[0m\u001b[0;34m\u001b[0m\u001b[0m\n\u001b[1;32m   1376\u001b[0m     \u001b[0;31m# comparison. See https://github.com/numpy/numpy/issues/6784\u001b[0m\u001b[0;34m\u001b[0m\u001b[0;34m\u001b[0m\u001b[0m\n",
            "\u001b[0;32m/usr/local/lib/python3.10/dist-packages/sklearn/metrics/_classification.py\u001b[0m in \u001b[0;36m_check_targets\u001b[0;34m(y_true=0     -1\n1     -1\n2     -1\n3      1\n4      1\n   ...  -1\nName: boxer1_pred, Length: 256, dtype: int64, y_pred=2548   -1\n3572   -1\n4863   -1\n4612   -1\n513     ...90    -1\nName: result, Length: 1461, dtype: int64)\u001b[0m\n\u001b[1;32m     84\u001b[0m     \u001b[0my_pred\u001b[0m \u001b[0;34m:\u001b[0m \u001b[0marray\u001b[0m \u001b[0;32mor\u001b[0m \u001b[0mindicator\u001b[0m \u001b[0mmatrix\u001b[0m\u001b[0;34m\u001b[0m\u001b[0;34m\u001b[0m\u001b[0m\n\u001b[1;32m     85\u001b[0m     \"\"\"\n\u001b[0;32m---> 86\u001b[0;31m     \u001b[0mcheck_consistent_length\u001b[0m\u001b[0;34m(\u001b[0m\u001b[0my_true\u001b[0m\u001b[0;34m,\u001b[0m \u001b[0my_pred\u001b[0m\u001b[0;34m)\u001b[0m\u001b[0;34m\u001b[0m\u001b[0;34m\u001b[0m\u001b[0m\n\u001b[0m        \u001b[0;36mglobal\u001b[0m \u001b[0;36mcheck_consistent_length\u001b[0m \u001b[0;34m= <function check_consistent_length at 0x7ef0b4db0af0>\u001b[0m\u001b[0;34m\n        \u001b[0m\u001b[0;36my_true\u001b[0m \u001b[0;34m= 0     -1\n1     -1\n2     -1\n3      1\n4      1\n      ..\n251   -1\n252    1\n253   -1\n254   -1\n255   -1\nName: boxer1_pred, Length: 256, dtype: int64\u001b[0m\u001b[0;34m\n        \u001b[0m\u001b[0;36my_pred\u001b[0m \u001b[0;34m= 2548   -1\n3572   -1\n4863   -1\n4612   -1\n513     1\n       ..\n1195   -1\n4279    1\n818     1\n3386    1\n590    -1\nName: result, Length: 1461, dtype: int64\u001b[0m\n\u001b[1;32m     87\u001b[0m     \u001b[0mtype_true\u001b[0m \u001b[0;34m=\u001b[0m \u001b[0mtype_of_target\u001b[0m\u001b[0;34m(\u001b[0m\u001b[0my_true\u001b[0m\u001b[0;34m,\u001b[0m \u001b[0minput_name\u001b[0m\u001b[0;34m=\u001b[0m\u001b[0;34m\"y_true\"\u001b[0m\u001b[0;34m)\u001b[0m\u001b[0;34m\u001b[0m\u001b[0;34m\u001b[0m\u001b[0m\n\u001b[1;32m     88\u001b[0m     \u001b[0mtype_pred\u001b[0m \u001b[0;34m=\u001b[0m \u001b[0mtype_of_target\u001b[0m\u001b[0;34m(\u001b[0m\u001b[0my_pred\u001b[0m\u001b[0;34m,\u001b[0m \u001b[0minput_name\u001b[0m\u001b[0;34m=\u001b[0m\u001b[0;34m\"y_pred\"\u001b[0m\u001b[0;34m)\u001b[0m\u001b[0;34m\u001b[0m\u001b[0;34m\u001b[0m\u001b[0m\n",
            "\u001b[0;32m/usr/local/lib/python3.10/dist-packages/sklearn/utils/validation.py\u001b[0m in \u001b[0;36mcheck_consistent_length\u001b[0;34m(*arrays=(0     -1\n1     -1\n2     -1\n3      1\n4      1\n   ...  -1\nName: boxer1_pred, Length: 256, dtype: int64, 2548   -1\n3572   -1\n4863   -1\n4612   -1\n513     ...90    -1\nName: result, Length: 1461, dtype: int64))\u001b[0m\n\u001b[1;32m    395\u001b[0m     \u001b[0muniques\u001b[0m \u001b[0;34m=\u001b[0m \u001b[0mnp\u001b[0m\u001b[0;34m.\u001b[0m\u001b[0munique\u001b[0m\u001b[0;34m(\u001b[0m\u001b[0mlengths\u001b[0m\u001b[0;34m)\u001b[0m\u001b[0;34m\u001b[0m\u001b[0;34m\u001b[0m\u001b[0m\n\u001b[1;32m    396\u001b[0m     \u001b[0;32mif\u001b[0m \u001b[0mlen\u001b[0m\u001b[0;34m(\u001b[0m\u001b[0muniques\u001b[0m\u001b[0;34m)\u001b[0m \u001b[0;34m>\u001b[0m \u001b[0;36m1\u001b[0m\u001b[0;34m:\u001b[0m\u001b[0;34m\u001b[0m\u001b[0;34m\u001b[0m\u001b[0m\n\u001b[0;32m--> 397\u001b[0;31m         raise ValueError(\n\u001b[0m        \u001b[0;36mglobal\u001b[0m \u001b[0;36mValueError\u001b[0m \u001b[0;34m= \u001b[0;36mundefined\u001b[0m\u001b[0m\u001b[0;34m\n        \u001b[0m\u001b[0;36mglobal\u001b[0m \u001b[0;36mint\u001b[0m \u001b[0;34m= \u001b[0;36mundefined\u001b[0m\u001b[0m\u001b[0;34m\n        \u001b[0m\u001b[0;36mglobal\u001b[0m \u001b[0;36ml\u001b[0m \u001b[0;34m= \u001b[0;36mundefined\u001b[0m\u001b[0m\u001b[0;34m\n        \u001b[0m\u001b[0;36mlengths\u001b[0m \u001b[0;34m= [256, 1461]\u001b[0m\n\u001b[1;32m    398\u001b[0m             \u001b[0;34m\"Found input variables with inconsistent numbers of samples: %r\"\u001b[0m\u001b[0;34m\u001b[0m\u001b[0;34m\u001b[0m\u001b[0m\n\u001b[1;32m    399\u001b[0m             \u001b[0;34m%\u001b[0m \u001b[0;34m[\u001b[0m\u001b[0mint\u001b[0m\u001b[0;34m(\u001b[0m\u001b[0ml\u001b[0m\u001b[0;34m)\u001b[0m \u001b[0;32mfor\u001b[0m \u001b[0ml\u001b[0m \u001b[0;32min\u001b[0m \u001b[0mlengths\u001b[0m\u001b[0;34m]\u001b[0m\u001b[0;34m\u001b[0m\u001b[0;34m\u001b[0m\u001b[0m\n",
            "\u001b[0;31mValueError\u001b[0m: Found input variables with inconsistent numbers of samples: [256, 1461]"
          ]
        }
      ]
    },
    {
      "cell_type": "code",
      "source": [
        "get_metrics(ytest, ytest_pred.boxer1_pred)"
      ],
      "metadata": {
        "id": "rLL1nV9_rqgm"
      },
      "execution_count": null,
      "outputs": []
    },
    {
      "cell_type": "code",
      "source": [
        "feature_names = xtrain_2.columns\n",
        "\n",
        "k = 40\n",
        "print(\"Top %s importances:\\n\" % k)\n",
        "print('\\n'.join([\"%s: %.2g\" % (tup[0], tup[1]) for tup in get_feature_importance(ranfor, feature_names)[:k]]))\n",
        "\n",
        "print(\"\\nBottom %s importances:\\n\" % k)\n",
        "print('\\n'.join([\"%s: %.2g\" % (tup[0], tup[1]) for tup in get_feature_importance(ranfor, feature_names)[-k:]]))"
      ],
      "metadata": {
        "id": "8K9jxl0ySIDH"
      },
      "execution_count": null,
      "outputs": []
    },
    {
      "cell_type": "code",
      "source": [
        "get_confusion_matrix_plot(y_pred.boxer1_pred, ytest,\n",
        "                          figsize=(5, 3), classes=['-1 : loss','1 : win'])\n",
        "plt.show()"
      ],
      "metadata": {
        "id": "jE2W2Sn2sqqB"
      },
      "execution_count": null,
      "outputs": []
    },
    {
      "cell_type": "code",
      "source": [
        "proba_win = y_pred.prob_win"
      ],
      "metadata": {
        "id": "k49CCvyPsZxq"
      },
      "execution_count": null,
      "outputs": []
    },
    {
      "cell_type": "code",
      "source": [
        "get_roc_plot(proba_win, ytest, figsize=(5,3))\n",
        "plt.show()"
      ],
      "metadata": {
        "id": "VMvaDDXptNfN"
      },
      "execution_count": null,
      "outputs": []
    },
    {
      "cell_type": "code",
      "source": [
        "get_calibration_plot(proba_win, ytest, figsize=(5, 5))"
      ],
      "metadata": {
        "id": "_isgCQ9tre1r"
      },
      "execution_count": null,
      "outputs": []
    },
    {
      "cell_type": "code",
      "source": [
        "dfx = check_fails_and_probas(x_clus, ytest, y_pred.boxer1_pred, y_pred.prob_loss, y_pred.prob_win)"
      ],
      "metadata": {
        "id": "UpdehBwds0ee"
      },
      "execution_count": null,
      "outputs": []
    },
    {
      "cell_type": "markdown",
      "source": [
        "#### cross val hyperparams"
      ],
      "metadata": {
        "id": "k8ELfepUnfmG"
      }
    },
    {
      "cell_type": "code",
      "source": [
        "# search for best hyperparameters\n",
        "from sklearn.model_selection import RandomizedSearchCV\n",
        "from scipy.stats import randint\n",
        "\n",
        "param_dist = {\n",
        "    'n_estimators': randint(50, 200),\n",
        "    'max_depth': [None, 5, 10],\n",
        "    'min_samples_split': randint(2, 10),\n",
        "    'min_samples_leaf': randint(1, 4)\n",
        "}\n",
        "\n",
        "# Perform randomized search to find the best hyperparameters\n",
        "random_search = RandomizedSearchCV(estimator=ranfor, param_distributions=param_dist, n_iter=10, cv=5)\n",
        "random_search.fit(xtrain_3, y_dfnovmas)\n",
        "\n",
        "# Print the best hyperparameters found\n",
        "print(\"Best hyperparameters:\")\n",
        "print(random_search.best_params_)\n",
        "\n",
        "# Evaluate the best model on the test set\n",
        "best_model = random_search.best_estimator_\n",
        "accuracy = best_model.score(xl_test, yl_test)\n",
        "print(\"Accuracy on test set:\", accuracy)"
      ],
      "metadata": {
        "id": "os-rdjjTwYI-",
        "colab": {
          "base_uri": "https://localhost:8080/",
          "height": 1000
        },
        "outputId": "d6a0cdf9-33ba-4500-8a36-f26a9d9ddbd4"
      },
      "execution_count": null,
      "outputs": [
        {
          "output_type": "stream",
          "name": "stdout",
          "text": [
            "Best hyperparameters:\n",
            "{'max_depth': None, 'min_samples_leaf': 1, 'min_samples_split': 3, 'n_estimators': 117}\n"
          ]
        },
        {
          "output_type": "error",
          "ename": "ValueError",
          "evalue": "ignored",
          "traceback": [
            "\u001b[0;31m---------------------------------------------------------------------------\u001b[0m",
            "\u001b[0;31mValueError\u001b[0m                                Traceback (most recent call last)",
            "\u001b[0;32m<ipython-input-56-f644124718df>\u001b[0m in \u001b[0;36m<cell line: 22>\u001b[0;34m()\u001b[0m\n\u001b[1;32m     20\u001b[0m \u001b[0;31m# Evaluate the best model on the test set\u001b[0m\u001b[0;34m\u001b[0m\u001b[0;34m\u001b[0m\u001b[0m\n\u001b[1;32m     21\u001b[0m \u001b[0mbest_model\u001b[0m \u001b[0;34m=\u001b[0m \u001b[0mrandom_search\u001b[0m\u001b[0;34m.\u001b[0m\u001b[0mbest_estimator_\u001b[0m\u001b[0;34m\u001b[0m\u001b[0;34m\u001b[0m\u001b[0m\n\u001b[0;32m---> 22\u001b[0;31m \u001b[0maccuracy\u001b[0m \u001b[0;34m=\u001b[0m \u001b[0mbest_model\u001b[0m\u001b[0;34m.\u001b[0m\u001b[0mscore\u001b[0m\u001b[0;34m(\u001b[0m\u001b[0mxl_test\u001b[0m\u001b[0;34m,\u001b[0m \u001b[0myl_test\u001b[0m\u001b[0;34m)\u001b[0m\u001b[0;34m\u001b[0m\u001b[0;34m\u001b[0m\u001b[0m\n\u001b[0m        \u001b[0;36mglobal\u001b[0m \u001b[0;36maccuracy\u001b[0m \u001b[0;34m= \u001b[0;36mundefined\u001b[0m\u001b[0m\u001b[0;34m\n        \u001b[0m\u001b[0;36mglobal\u001b[0m \u001b[0;36mbest_model.score\u001b[0m \u001b[0;34m= <bound method ClassifierMixin.score of RandomForestClassifier(min_samples_split=3, n_estimators=117)>\u001b[0m\u001b[0;34m\n        \u001b[0m\u001b[0;36mglobal\u001b[0m \u001b[0;36mxl_test\u001b[0m \u001b[0;34m=        y_f  m_f  d_f            c_f  birth_b1  height_b1  reach_b1 stance_b1  \\\n2548  2003    9   12        ukraine    1982.0      173.0     183.0  orthodox   \n3572  1999    9   11            usa    1978.0      178.0     180.0  orthodox   \n4863  2009    2    7    west europe    1983.0      170.0     178.0  orthodox   \n4612  2008    9   13            usa    1971.0      168.0     170.0  southpaw   \n513   1999    7   10         mexico    1962.0      173.0     173.0  orthodox   \n...    ...  ...  ...            ...       ...        ...       ...       ...   \n1195  2018    5   12            usa    1987.0      190.0     196.0  orthodox   \n4279  2005    6   17      east asia    1982.0      168.0     173.0  orthodox   \n818   2003    4   10         russia    1983.0      178.0     183.0  orthodox   \n3386  2017    7   21  latin america    1996.0      170.0     173.0  orthodox   \n590   2014    4   12            usa    1981.0      178.0     185.0  orthodox   \n\n     boxstyle_b1      region_b1  ...  b1_d  b1_l  b1_lk  b2_w b2_wk b2_d  \\\n2548     puncher         russia  ...   0.0   2.0    1.0  39.0  26.0  0.0   \n3572    pressure  latin america  ...   6.0  13.0    2.0  50.0  33.0  0.0   \n4863    pressure      argentina  ...   0.0   3.0    2.0  31.0  11.0  0.0   \n4612     counter         caribe  ...   2.0   5.0    1.0  39.0  36.0  0.0   \n513      puncher         mexico  ...   6.0   1.0    1.0  35.0  27.0  3.0   \n...          ...            ...  ...   ...   ...    ...   ...   ...  ...   \n1195    pressure  south america  ...   0.0   1.0    1.0  12.0   6.0  0.0   \n4279     swarmer      east asia  ...   0.0   0.0    0.0  10.0   7.0  0.0   \n818     pressure         russia  ...   0.0   4.0    1.0  18.0  12.0  0.0   \n3386     puncher  south america  ...   0.0   1.0    1.0  16.0   8.0  0.0   \n590      counter  south america  ...   1.0   2.0    1.0  25.0  19.0  1.0   \n\n      b2_l  b2_lk  b1_bet  b2_bet  \n2548   3.0    2.0    0.45    0.12  \n3572   0.0    0.0    0.57    0.09  \n4863   2.0    1.0    0.10    0.17  \n4612   6.0    4.0    0.19    0.16  \n513    3.0    1.0    0.06    0.26  \n...    ...    ...     ...     ...  \n1195   0.0    0.0    0.08    0.07  \n4279   0.0    0.0    0.29    0.19  \n818    2.0    1.0    0.29    0.20  \n3386   1.0    1.0    0.21    0.33  \n590    0.0    0.0    0.14    0.06  \n\n[1461 rows x 28 columns]\u001b[0m\u001b[0;34m\n        \u001b[0m\u001b[0;36mglobal\u001b[0m \u001b[0;36myl_test\u001b[0m \u001b[0;34m= 2548   -1\n3572   -1\n4863   -1\n4612   -1\n513     1\n       ..\n1195   -1\n4279    1\n818     1\n3386    1\n590    -1\nName: result, Length: 1461, dtype: int64\u001b[0m\n\u001b[1;32m     23\u001b[0m \u001b[0mprint\u001b[0m\u001b[0;34m(\u001b[0m\u001b[0;34m\"Accuracy on test set:\"\u001b[0m\u001b[0;34m,\u001b[0m \u001b[0maccuracy\u001b[0m\u001b[0;34m)\u001b[0m\u001b[0;34m\u001b[0m\u001b[0;34m\u001b[0m\u001b[0m\n",
            "\u001b[0;32m/usr/local/lib/python3.10/dist-packages/sklearn/base.py\u001b[0m in \u001b[0;36mscore\u001b[0;34m(self=RandomForestClassifier(min_samples_split=3, n_estimators=117), X=       y_f  m_f  d_f            c_f  birth_b1  h...  0.0    0.14    0.06  \n\n[1461 rows x 28 columns], y=2548   -1\n3572   -1\n4863   -1\n4612   -1\n513     ...90    -1\nName: result, Length: 1461, dtype: int64, sample_weight=None)\u001b[0m\n\u001b[1;32m    666\u001b[0m         \u001b[0;32mfrom\u001b[0m \u001b[0;34m.\u001b[0m\u001b[0mmetrics\u001b[0m \u001b[0;32mimport\u001b[0m \u001b[0maccuracy_score\u001b[0m\u001b[0;34m\u001b[0m\u001b[0;34m\u001b[0m\u001b[0m\n\u001b[1;32m    667\u001b[0m \u001b[0;34m\u001b[0m\u001b[0m\n\u001b[0;32m--> 668\u001b[0;31m         \u001b[0;32mreturn\u001b[0m \u001b[0maccuracy_score\u001b[0m\u001b[0;34m(\u001b[0m\u001b[0my\u001b[0m\u001b[0;34m,\u001b[0m \u001b[0mself\u001b[0m\u001b[0;34m.\u001b[0m\u001b[0mpredict\u001b[0m\u001b[0;34m(\u001b[0m\u001b[0mX\u001b[0m\u001b[0;34m)\u001b[0m\u001b[0;34m,\u001b[0m \u001b[0msample_weight\u001b[0m\u001b[0;34m=\u001b[0m\u001b[0msample_weight\u001b[0m\u001b[0;34m)\u001b[0m\u001b[0;34m\u001b[0m\u001b[0;34m\u001b[0m\u001b[0m\n\u001b[0m        \u001b[0;36maccuracy_score\u001b[0m \u001b[0;34m= <function accuracy_score at 0x7ef0b4cd5360>\u001b[0m\u001b[0;34m\n        \u001b[0m\u001b[0;36my\u001b[0m \u001b[0;34m= 2548   -1\n3572   -1\n4863   -1\n4612   -1\n513     1\n       ..\n1195   -1\n4279    1\n818     1\n3386    1\n590    -1\nName: result, Length: 1461, dtype: int64\u001b[0m\u001b[0;34m\n        \u001b[0m\u001b[0;36mself.predict\u001b[0m \u001b[0;34m= <bound method ForestClassifier.predict of RandomForestClassifier(min_samples_split=3, n_estimators=117)>\u001b[0m\u001b[0;34m\n        \u001b[0m\u001b[0;36mX\u001b[0m \u001b[0;34m=        y_f  m_f  d_f            c_f  birth_b1  height_b1  reach_b1 stance_b1  \\\n2548  2003    9   12        ukraine    1982.0      173.0     183.0  orthodox   \n3572  1999    9   11            usa    1978.0      178.0     180.0  orthodox   \n4863  2009    2    7    west europe    1983.0      170.0     178.0  orthodox   \n4612  2008    9   13            usa    1971.0      168.0     170.0  southpaw   \n513   1999    7   10         mexico    1962.0      173.0     173.0  orthodox   \n...    ...  ...  ...            ...       ...        ...       ...       ...   \n1195  2018    5   12            usa    1987.0      190.0     196.0  orthodox   \n4279  2005    6   17      east asia    1982.0      168.0     173.0  orthodox   \n818   2003    4   10         russia    1983.0      178.0     183.0  orthodox   \n3386  2017    7   21  latin america    1996.0      170.0     173.0  orthodox   \n590   2014    4   12            usa    1981.0      178.0     185.0  orthodox   \n\n     boxstyle_b1      region_b1  ...  b1_d  b1_l  b1_lk  b2_w b2_wk b2_d  \\\n2548     puncher         russia  ...   0.0   2.0    1.0  39.0  26.0  0.0   \n3572    pressure  latin america  ...   6.0  13.0    2.0  50.0  33.0  0.0   \n4863    pressure      argentina  ...   0.0   3.0    2.0  31.0  11.0  0.0   \n4612     counter         caribe  ...   2.0   5.0    1.0  39.0  36.0  0.0   \n513      puncher         mexico  ...   6.0   1.0    1.0  35.0  27.0  3.0   \n...          ...            ...  ...   ...   ...    ...   ...   ...  ...   \n1195    pressure  south america  ...   0.0   1.0    1.0  12.0   6.0  0.0   \n4279     swarmer      east asia  ...   0.0   0.0    0.0  10.0   7.0  0.0   \n818     pressure         russia  ...   0.0   4.0    1.0  18.0  12.0  0.0   \n3386     puncher  south america  ...   0.0   1.0    1.0  16.0   8.0  0.0   \n590      counter  south america  ...   1.0   2.0    1.0  25.0  19.0  1.0   \n\n      b2_l  b2_lk  b1_bet  b2_bet  \n2548   3.0    2.0    0.45    0.12  \n3572   0.0    0.0    0.57    0.09  \n4863   2.0    1.0    0.10    0.17  \n4612   6.0    4.0    0.19    0.16  \n513    3.0    1.0    0.06    0.26  \n...    ...    ...     ...     ...  \n1195   0.0    0.0    0.08    0.07  \n4279   0.0    0.0    0.29    0.19  \n818    2.0    1.0    0.29    0.20  \n3386   1.0    1.0    0.21    0.33  \n590    0.0    0.0    0.14    0.06  \n\n[1461 rows x 28 columns]\u001b[0m\u001b[0;34m\n        \u001b[0m\u001b[0;36msample_weight\u001b[0m \u001b[0;34m= None\u001b[0m\n\u001b[1;32m    669\u001b[0m \u001b[0;34m\u001b[0m\u001b[0m\n\u001b[1;32m    670\u001b[0m     \u001b[0;32mdef\u001b[0m \u001b[0m_more_tags\u001b[0m\u001b[0;34m(\u001b[0m\u001b[0mself\u001b[0m\u001b[0;34m)\u001b[0m\u001b[0;34m:\u001b[0m\u001b[0;34m\u001b[0m\u001b[0;34m\u001b[0m\u001b[0m\n",
            "\u001b[0;32m/usr/local/lib/python3.10/dist-packages/sklearn/ensemble/_forest.py\u001b[0m in \u001b[0;36mpredict\u001b[0;34m(self=RandomForestClassifier(min_samples_split=3, n_estimators=117), X=       y_f  m_f  d_f            c_f  birth_b1  h...  0.0    0.14    0.06  \n\n[1461 rows x 28 columns])\u001b[0m\n\u001b[1;32m    818\u001b[0m             \u001b[0mThe\u001b[0m \u001b[0mpredicted\u001b[0m \u001b[0mclasses\u001b[0m\u001b[0;34m.\u001b[0m\u001b[0;34m\u001b[0m\u001b[0;34m\u001b[0m\u001b[0m\n\u001b[1;32m    819\u001b[0m         \"\"\"\n\u001b[0;32m--> 820\u001b[0;31m         \u001b[0mproba\u001b[0m \u001b[0;34m=\u001b[0m \u001b[0mself\u001b[0m\u001b[0;34m.\u001b[0m\u001b[0mpredict_proba\u001b[0m\u001b[0;34m(\u001b[0m\u001b[0mX\u001b[0m\u001b[0;34m)\u001b[0m\u001b[0;34m\u001b[0m\u001b[0;34m\u001b[0m\u001b[0m\n\u001b[0m        \u001b[0;36mproba\u001b[0m \u001b[0;34m= \u001b[0;36mundefined\u001b[0m\u001b[0m\u001b[0;34m\n        \u001b[0m\u001b[0;36mself.predict_proba\u001b[0m \u001b[0;34m= <bound method ForestClassifier.predict_proba of RandomForestClassifier(min_samples_split=3, n_estimators=117)>\u001b[0m\u001b[0;34m\n        \u001b[0m\u001b[0;36mX\u001b[0m \u001b[0;34m=        y_f  m_f  d_f            c_f  birth_b1  height_b1  reach_b1 stance_b1  \\\n2548  2003    9   12        ukraine    1982.0      173.0     183.0  orthodox   \n3572  1999    9   11            usa    1978.0      178.0     180.0  orthodox   \n4863  2009    2    7    west europe    1983.0      170.0     178.0  orthodox   \n4612  2008    9   13            usa    1971.0      168.0     170.0  southpaw   \n513   1999    7   10         mexico    1962.0      173.0     173.0  orthodox   \n...    ...  ...  ...            ...       ...        ...       ...       ...   \n1195  2018    5   12            usa    1987.0      190.0     196.0  orthodox   \n4279  2005    6   17      east asia    1982.0      168.0     173.0  orthodox   \n818   2003    4   10         russia    1983.0      178.0     183.0  orthodox   \n3386  2017    7   21  latin america    1996.0      170.0     173.0  orthodox   \n590   2014    4   12            usa    1981.0      178.0     185.0  orthodox   \n\n     boxstyle_b1      region_b1  ...  b1_d  b1_l  b1_lk  b2_w b2_wk b2_d  \\\n2548     puncher         russia  ...   0.0   2.0    1.0  39.0  26.0  0.0   \n3572    pressure  latin america  ...   6.0  13.0    2.0  50.0  33.0  0.0   \n4863    pressure      argentina  ...   0.0   3.0    2.0  31.0  11.0  0.0   \n4612     counter         caribe  ...   2.0   5.0    1.0  39.0  36.0  0.0   \n513      puncher         mexico  ...   6.0   1.0    1.0  35.0  27.0  3.0   \n...          ...            ...  ...   ...   ...    ...   ...   ...  ...   \n1195    pressure  south america  ...   0.0   1.0    1.0  12.0   6.0  0.0   \n4279     swarmer      east asia  ...   0.0   0.0    0.0  10.0   7.0  0.0   \n818     pressure         russia  ...   0.0   4.0    1.0  18.0  12.0  0.0   \n3386     puncher  south america  ...   0.0   1.0    1.0  16.0   8.0  0.0   \n590      counter  south america  ...   1.0   2.0    1.0  25.0  19.0  1.0   \n\n      b2_l  b2_lk  b1_bet  b2_bet  \n2548   3.0    2.0    0.45    0.12  \n3572   0.0    0.0    0.57    0.09  \n4863   2.0    1.0    0.10    0.17  \n4612   6.0    4.0    0.19    0.16  \n513    3.0    1.0    0.06    0.26  \n...    ...    ...     ...     ...  \n1195   0.0    0.0    0.08    0.07  \n4279   0.0    0.0    0.29    0.19  \n818    2.0    1.0    0.29    0.20  \n3386   1.0    1.0    0.21    0.33  \n590    0.0    0.0    0.14    0.06  \n\n[1461 rows x 28 columns]\u001b[0m\n\u001b[1;32m    821\u001b[0m \u001b[0;34m\u001b[0m\u001b[0m\n\u001b[1;32m    822\u001b[0m         \u001b[0;32mif\u001b[0m \u001b[0mself\u001b[0m\u001b[0;34m.\u001b[0m\u001b[0mn_outputs_\u001b[0m \u001b[0;34m==\u001b[0m \u001b[0;36m1\u001b[0m\u001b[0;34m:\u001b[0m\u001b[0;34m\u001b[0m\u001b[0;34m\u001b[0m\u001b[0m\n",
            "\u001b[0;32m/usr/local/lib/python3.10/dist-packages/sklearn/ensemble/_forest.py\u001b[0m in \u001b[0;36mpredict_proba\u001b[0;34m(self=RandomForestClassifier(min_samples_split=3, n_estimators=117), X=       y_f  m_f  d_f            c_f  birth_b1  h...  0.0    0.14    0.06  \n\n[1461 rows x 28 columns])\u001b[0m\n\u001b[1;32m    860\u001b[0m         \u001b[0mcheck_is_fitted\u001b[0m\u001b[0;34m(\u001b[0m\u001b[0mself\u001b[0m\u001b[0;34m)\u001b[0m\u001b[0;34m\u001b[0m\u001b[0;34m\u001b[0m\u001b[0m\n\u001b[1;32m    861\u001b[0m         \u001b[0;31m# Check data\u001b[0m\u001b[0;34m\u001b[0m\u001b[0;34m\u001b[0m\u001b[0m\n\u001b[0;32m--> 862\u001b[0;31m         \u001b[0mX\u001b[0m \u001b[0;34m=\u001b[0m \u001b[0mself\u001b[0m\u001b[0;34m.\u001b[0m\u001b[0m_validate_X_predict\u001b[0m\u001b[0;34m(\u001b[0m\u001b[0mX\u001b[0m\u001b[0;34m)\u001b[0m\u001b[0;34m\u001b[0m\u001b[0;34m\u001b[0m\u001b[0m\n\u001b[0m        \u001b[0;36mX\u001b[0m \u001b[0;34m=        y_f  m_f  d_f            c_f  birth_b1  height_b1  reach_b1 stance_b1  \\\n2548  2003    9   12        ukraine    1982.0      173.0     183.0  orthodox   \n3572  1999    9   11            usa    1978.0      178.0     180.0  orthodox   \n4863  2009    2    7    west europe    1983.0      170.0     178.0  orthodox   \n4612  2008    9   13            usa    1971.0      168.0     170.0  southpaw   \n513   1999    7   10         mexico    1962.0      173.0     173.0  orthodox   \n...    ...  ...  ...            ...       ...        ...       ...       ...   \n1195  2018    5   12            usa    1987.0      190.0     196.0  orthodox   \n4279  2005    6   17      east asia    1982.0      168.0     173.0  orthodox   \n818   2003    4   10         russia    1983.0      178.0     183.0  orthodox   \n3386  2017    7   21  latin america    1996.0      170.0     173.0  orthodox   \n590   2014    4   12            usa    1981.0      178.0     185.0  orthodox   \n\n     boxstyle_b1      region_b1  ...  b1_d  b1_l  b1_lk  b2_w b2_wk b2_d  \\\n2548     puncher         russia  ...   0.0   2.0    1.0  39.0  26.0  0.0   \n3572    pressure  latin america  ...   6.0  13.0    2.0  50.0  33.0  0.0   \n4863    pressure      argentina  ...   0.0   3.0    2.0  31.0  11.0  0.0   \n4612     counter         caribe  ...   2.0   5.0    1.0  39.0  36.0  0.0   \n513      puncher         mexico  ...   6.0   1.0    1.0  35.0  27.0  3.0   \n...          ...            ...  ...   ...   ...    ...   ...   ...  ...   \n1195    pressure  south america  ...   0.0   1.0    1.0  12.0   6.0  0.0   \n4279     swarmer      east asia  ...   0.0   0.0    0.0  10.0   7.0  0.0   \n818     pressure         russia  ...   0.0   4.0    1.0  18.0  12.0  0.0   \n3386     puncher  south america  ...   0.0   1.0    1.0  16.0   8.0  0.0   \n590      counter  south america  ...   1.0   2.0    1.0  25.0  19.0  1.0   \n\n      b2_l  b2_lk  b1_bet  b2_bet  \n2548   3.0    2.0    0.45    0.12  \n3572   0.0    0.0    0.57    0.09  \n4863   2.0    1.0    0.10    0.17  \n4612   6.0    4.0    0.19    0.16  \n513    3.0    1.0    0.06    0.26  \n...    ...    ...     ...     ...  \n1195   0.0    0.0    0.08    0.07  \n4279   0.0    0.0    0.29    0.19  \n818    2.0    1.0    0.29    0.20  \n3386   1.0    1.0    0.21    0.33  \n590    0.0    0.0    0.14    0.06  \n\n[1461 rows x 28 columns]\u001b[0m\u001b[0;34m\n        \u001b[0m\u001b[0;36mself._validate_X_predict\u001b[0m \u001b[0;34m= <bound method BaseForest._validate_X_predict of RandomForestClassifier(min_samples_split=3, n_estimators=117)>\u001b[0m\n\u001b[1;32m    863\u001b[0m \u001b[0;34m\u001b[0m\u001b[0m\n\u001b[1;32m    864\u001b[0m         \u001b[0;31m# Assign chunk of trees to jobs\u001b[0m\u001b[0;34m\u001b[0m\u001b[0;34m\u001b[0m\u001b[0m\n",
            "\u001b[0;32m/usr/local/lib/python3.10/dist-packages/sklearn/ensemble/_forest.py\u001b[0m in \u001b[0;36m_validate_X_predict\u001b[0;34m(self=RandomForestClassifier(min_samples_split=3, n_estimators=117), X=       y_f  m_f  d_f            c_f  birth_b1  h...  0.0    0.14    0.06  \n\n[1461 rows x 28 columns])\u001b[0m\n\u001b[1;32m    600\u001b[0m         Validate X whenever one tries to predict, apply, predict_proba.\"\"\"\n\u001b[1;32m    601\u001b[0m         \u001b[0mcheck_is_fitted\u001b[0m\u001b[0;34m(\u001b[0m\u001b[0mself\u001b[0m\u001b[0;34m)\u001b[0m\u001b[0;34m\u001b[0m\u001b[0;34m\u001b[0m\u001b[0m\n\u001b[0;32m--> 602\u001b[0;31m         \u001b[0mX\u001b[0m \u001b[0;34m=\u001b[0m \u001b[0mself\u001b[0m\u001b[0;34m.\u001b[0m\u001b[0m_validate_data\u001b[0m\u001b[0;34m(\u001b[0m\u001b[0mX\u001b[0m\u001b[0;34m,\u001b[0m \u001b[0mdtype\u001b[0m\u001b[0;34m=\u001b[0m\u001b[0mDTYPE\u001b[0m\u001b[0;34m,\u001b[0m \u001b[0maccept_sparse\u001b[0m\u001b[0;34m=\u001b[0m\u001b[0;34m\"csr\"\u001b[0m\u001b[0;34m,\u001b[0m \u001b[0mreset\u001b[0m\u001b[0;34m=\u001b[0m\u001b[0;32mFalse\u001b[0m\u001b[0;34m)\u001b[0m\u001b[0;34m\u001b[0m\u001b[0;34m\u001b[0m\u001b[0m\n\u001b[0m        \u001b[0;36mX\u001b[0m \u001b[0;34m=        y_f  m_f  d_f            c_f  birth_b1  height_b1  reach_b1 stance_b1  \\\n2548  2003    9   12        ukraine    1982.0      173.0     183.0  orthodox   \n3572  1999    9   11            usa    1978.0      178.0     180.0  orthodox   \n4863  2009    2    7    west europe    1983.0      170.0     178.0  orthodox   \n4612  2008    9   13            usa    1971.0      168.0     170.0  southpaw   \n513   1999    7   10         mexico    1962.0      173.0     173.0  orthodox   \n...    ...  ...  ...            ...       ...        ...       ...       ...   \n1195  2018    5   12            usa    1987.0      190.0     196.0  orthodox   \n4279  2005    6   17      east asia    1982.0      168.0     173.0  orthodox   \n818   2003    4   10         russia    1983.0      178.0     183.0  orthodox   \n3386  2017    7   21  latin america    1996.0      170.0     173.0  orthodox   \n590   2014    4   12            usa    1981.0      178.0     185.0  orthodox   \n\n     boxstyle_b1      region_b1  ...  b1_d  b1_l  b1_lk  b2_w b2_wk b2_d  \\\n2548     puncher         russia  ...   0.0   2.0    1.0  39.0  26.0  0.0   \n3572    pressure  latin america  ...   6.0  13.0    2.0  50.0  33.0  0.0   \n4863    pressure      argentina  ...   0.0   3.0    2.0  31.0  11.0  0.0   \n4612     counter         caribe  ...   2.0   5.0    1.0  39.0  36.0  0.0   \n513      puncher         mexico  ...   6.0   1.0    1.0  35.0  27.0  3.0   \n...          ...            ...  ...   ...   ...    ...   ...   ...  ...   \n1195    pressure  south america  ...   0.0   1.0    1.0  12.0   6.0  0.0   \n4279     swarmer      east asia  ...   0.0   0.0    0.0  10.0   7.0  0.0   \n818     pressure         russia  ...   0.0   4.0    1.0  18.0  12.0  0.0   \n3386     puncher  south america  ...   0.0   1.0    1.0  16.0   8.0  0.0   \n590      counter  south america  ...   1.0   2.0    1.0  25.0  19.0  1.0   \n\n      b2_l  b2_lk  b1_bet  b2_bet  \n2548   3.0    2.0    0.45    0.12  \n3572   0.0    0.0    0.57    0.09  \n4863   2.0    1.0    0.10    0.17  \n4612   6.0    4.0    0.19    0.16  \n513    3.0    1.0    0.06    0.26  \n...    ...    ...     ...     ...  \n1195   0.0    0.0    0.08    0.07  \n4279   0.0    0.0    0.29    0.19  \n818    2.0    1.0    0.29    0.20  \n3386   1.0    1.0    0.21    0.33  \n590    0.0    0.0    0.14    0.06  \n\n[1461 rows x 28 columns]\u001b[0m\u001b[0;34m\n        \u001b[0m\u001b[0;36mself._validate_data\u001b[0m \u001b[0;34m= <bound method BaseEstimator._validate_data of RandomForestClassifier(min_samples_split=3, n_estimators=117)>\u001b[0m\u001b[0;34m\n        \u001b[0m\u001b[0;36mglobal\u001b[0m \u001b[0;36mdtype\u001b[0m \u001b[0;34m= \u001b[0;36mundefined\u001b[0m\u001b[0m\u001b[0;34m\n        \u001b[0m\u001b[0;36mglobal\u001b[0m \u001b[0;36mDTYPE\u001b[0m \u001b[0;34m= <class 'numpy.float32'>\u001b[0m\u001b[0;34m\n        \u001b[0m\u001b[0;36mglobal\u001b[0m \u001b[0;36maccept_sparse\u001b[0m \u001b[0;34m= \u001b[0;36mundefined\u001b[0m\u001b[0m\u001b[0;34m\n        \u001b[0m\u001b[0;36mglobal\u001b[0m \u001b[0;36mreset\u001b[0m \u001b[0;34m= \u001b[0;36mundefined\u001b[0m\u001b[0m\n\u001b[1;32m    603\u001b[0m         \u001b[0;32mif\u001b[0m \u001b[0missparse\u001b[0m\u001b[0;34m(\u001b[0m\u001b[0mX\u001b[0m\u001b[0;34m)\u001b[0m \u001b[0;32mand\u001b[0m \u001b[0;34m(\u001b[0m\u001b[0mX\u001b[0m\u001b[0;34m.\u001b[0m\u001b[0mindices\u001b[0m\u001b[0;34m.\u001b[0m\u001b[0mdtype\u001b[0m \u001b[0;34m!=\u001b[0m \u001b[0mnp\u001b[0m\u001b[0;34m.\u001b[0m\u001b[0mintc\u001b[0m \u001b[0;32mor\u001b[0m \u001b[0mX\u001b[0m\u001b[0;34m.\u001b[0m\u001b[0mindptr\u001b[0m\u001b[0;34m.\u001b[0m\u001b[0mdtype\u001b[0m \u001b[0;34m!=\u001b[0m \u001b[0mnp\u001b[0m\u001b[0;34m.\u001b[0m\u001b[0mintc\u001b[0m\u001b[0;34m)\u001b[0m\u001b[0;34m:\u001b[0m\u001b[0;34m\u001b[0m\u001b[0;34m\u001b[0m\u001b[0m\n\u001b[1;32m    604\u001b[0m             \u001b[0;32mraise\u001b[0m \u001b[0mValueError\u001b[0m\u001b[0;34m(\u001b[0m\u001b[0;34m\"No support for np.int64 index based sparse matrices\"\u001b[0m\u001b[0;34m)\u001b[0m\u001b[0;34m\u001b[0m\u001b[0;34m\u001b[0m\u001b[0m\n",
            "\u001b[0;32m/usr/local/lib/python3.10/dist-packages/sklearn/base.py\u001b[0m in \u001b[0;36m_validate_data\u001b[0;34m(self=RandomForestClassifier(min_samples_split=3, n_estimators=117), X=       y_f  m_f  d_f            c_f  birth_b1  h...  0.0    0.14    0.06  \n\n[1461 rows x 28 columns], y='no_validation', reset=False, validate_separately=False, **check_params={'accept_sparse': 'csr', 'dtype': <class 'numpy.float32'>, 'estimator': RandomForestClassifier(min_samples_split=3, n_estimators=117)})\u001b[0m\n\u001b[1;32m    563\u001b[0m             \u001b[0;32mraise\u001b[0m \u001b[0mValueError\u001b[0m\u001b[0;34m(\u001b[0m\u001b[0;34m\"Validation should be done on X, y or both.\"\u001b[0m\u001b[0;34m)\u001b[0m\u001b[0;34m\u001b[0m\u001b[0;34m\u001b[0m\u001b[0m\n\u001b[1;32m    564\u001b[0m         \u001b[0;32melif\u001b[0m \u001b[0;32mnot\u001b[0m \u001b[0mno_val_X\u001b[0m \u001b[0;32mand\u001b[0m \u001b[0mno_val_y\u001b[0m\u001b[0;34m:\u001b[0m\u001b[0;34m\u001b[0m\u001b[0;34m\u001b[0m\u001b[0m\n\u001b[0;32m--> 565\u001b[0;31m             \u001b[0mX\u001b[0m \u001b[0;34m=\u001b[0m \u001b[0mcheck_array\u001b[0m\u001b[0;34m(\u001b[0m\u001b[0mX\u001b[0m\u001b[0;34m,\u001b[0m \u001b[0minput_name\u001b[0m\u001b[0;34m=\u001b[0m\u001b[0;34m\"X\"\u001b[0m\u001b[0;34m,\u001b[0m \u001b[0;34m**\u001b[0m\u001b[0mcheck_params\u001b[0m\u001b[0;34m)\u001b[0m\u001b[0;34m\u001b[0m\u001b[0;34m\u001b[0m\u001b[0m\n\u001b[0m        \u001b[0;36mX\u001b[0m \u001b[0;34m=        y_f  m_f  d_f            c_f  birth_b1  height_b1  reach_b1 stance_b1  \\\n2548  2003    9   12        ukraine    1982.0      173.0     183.0  orthodox   \n3572  1999    9   11            usa    1978.0      178.0     180.0  orthodox   \n4863  2009    2    7    west europe    1983.0      170.0     178.0  orthodox   \n4612  2008    9   13            usa    1971.0      168.0     170.0  southpaw   \n513   1999    7   10         mexico    1962.0      173.0     173.0  orthodox   \n...    ...  ...  ...            ...       ...        ...       ...       ...   \n1195  2018    5   12            usa    1987.0      190.0     196.0  orthodox   \n4279  2005    6   17      east asia    1982.0      168.0     173.0  orthodox   \n818   2003    4   10         russia    1983.0      178.0     183.0  orthodox   \n3386  2017    7   21  latin america    1996.0      170.0     173.0  orthodox   \n590   2014    4   12            usa    1981.0      178.0     185.0  orthodox   \n\n     boxstyle_b1      region_b1  ...  b1_d  b1_l  b1_lk  b2_w b2_wk b2_d  \\\n2548     puncher         russia  ...   0.0   2.0    1.0  39.0  26.0  0.0   \n3572    pressure  latin america  ...   6.0  13.0    2.0  50.0  33.0  0.0   \n4863    pressure      argentina  ...   0.0   3.0    2.0  31.0  11.0  0.0   \n4612     counter         caribe  ...   2.0   5.0    1.0  39.0  36.0  0.0   \n513      puncher         mexico  ...   6.0   1.0    1.0  35.0  27.0  3.0   \n...          ...            ...  ...   ...   ...    ...   ...   ...  ...   \n1195    pressure  south america  ...   0.0   1.0    1.0  12.0   6.0  0.0   \n4279     swarmer      east asia  ...   0.0   0.0    0.0  10.0   7.0  0.0   \n818     pressure         russia  ...   0.0   4.0    1.0  18.0  12.0  0.0   \n3386     puncher  south america  ...   0.0   1.0    1.0  16.0   8.0  0.0   \n590      counter  south america  ...   1.0   2.0    1.0  25.0  19.0  1.0   \n\n      b2_l  b2_lk  b1_bet  b2_bet  \n2548   3.0    2.0    0.45    0.12  \n3572   0.0    0.0    0.57    0.09  \n4863   2.0    1.0    0.10    0.17  \n4612   6.0    4.0    0.19    0.16  \n513    3.0    1.0    0.06    0.26  \n...    ...    ...     ...     ...  \n1195   0.0    0.0    0.08    0.07  \n4279   0.0    0.0    0.29    0.19  \n818    2.0    1.0    0.29    0.20  \n3386   1.0    1.0    0.21    0.33  \n590    0.0    0.0    0.14    0.06  \n\n[1461 rows x 28 columns]\u001b[0m\u001b[0;34m\n        \u001b[0m\u001b[0;36mglobal\u001b[0m \u001b[0;36mcheck_array\u001b[0m \u001b[0;34m= <function check_array at 0x7ef0b4db0ee0>\u001b[0m\u001b[0;34m\n        \u001b[0m\u001b[0;36mglobal\u001b[0m \u001b[0;36minput_name\u001b[0m \u001b[0;34m= \u001b[0;36mundefined\u001b[0m\u001b[0m\u001b[0;34m\n        \u001b[0m\u001b[0;36mcheck_params\u001b[0m \u001b[0;34m= {'estimator': RandomForestClassifier(min_samples_split=3, n_estimators=117), 'dtype': <class 'numpy.float32'>, 'accept_sparse': 'csr'}\u001b[0m\n\u001b[1;32m    566\u001b[0m             \u001b[0mout\u001b[0m \u001b[0;34m=\u001b[0m \u001b[0mX\u001b[0m\u001b[0;34m\u001b[0m\u001b[0;34m\u001b[0m\u001b[0m\n\u001b[1;32m    567\u001b[0m         \u001b[0;32melif\u001b[0m \u001b[0mno_val_X\u001b[0m \u001b[0;32mand\u001b[0m \u001b[0;32mnot\u001b[0m \u001b[0mno_val_y\u001b[0m\u001b[0;34m:\u001b[0m\u001b[0;34m\u001b[0m\u001b[0;34m\u001b[0m\u001b[0m\n",
            "\u001b[0;32m/usr/local/lib/python3.10/dist-packages/sklearn/utils/validation.py\u001b[0m in \u001b[0;36mcheck_array\u001b[0;34m(array=       y_f  m_f  d_f            c_f  birth_b1  h...  0.0    0.14    0.06  \n\n[1461 rows x 28 columns], accept_sparse='csr', accept_large_sparse=True, dtype=<class 'numpy.float32'>, order=None, copy=False, force_all_finite=True, ensure_2d=True, allow_nd=False, ensure_min_samples=1, ensure_min_features=1, estimator=RandomForestClassifier(min_samples_split=3, n_estimators=117), input_name='X')\u001b[0m\n\u001b[1;32m    877\u001b[0m                     \u001b[0marray\u001b[0m \u001b[0;34m=\u001b[0m \u001b[0mxp\u001b[0m\u001b[0;34m.\u001b[0m\u001b[0mastype\u001b[0m\u001b[0;34m(\u001b[0m\u001b[0marray\u001b[0m\u001b[0;34m,\u001b[0m \u001b[0mdtype\u001b[0m\u001b[0;34m,\u001b[0m \u001b[0mcopy\u001b[0m\u001b[0;34m=\u001b[0m\u001b[0;32mFalse\u001b[0m\u001b[0;34m)\u001b[0m\u001b[0;34m\u001b[0m\u001b[0;34m\u001b[0m\u001b[0m\n\u001b[1;32m    878\u001b[0m                 \u001b[0;32melse\u001b[0m\u001b[0;34m:\u001b[0m\u001b[0;34m\u001b[0m\u001b[0;34m\u001b[0m\u001b[0m\n\u001b[0;32m--> 879\u001b[0;31m                     \u001b[0marray\u001b[0m \u001b[0;34m=\u001b[0m \u001b[0m_asarray_with_order\u001b[0m\u001b[0;34m(\u001b[0m\u001b[0marray\u001b[0m\u001b[0;34m,\u001b[0m \u001b[0morder\u001b[0m\u001b[0;34m=\u001b[0m\u001b[0morder\u001b[0m\u001b[0;34m,\u001b[0m \u001b[0mdtype\u001b[0m\u001b[0;34m=\u001b[0m\u001b[0mdtype\u001b[0m\u001b[0;34m,\u001b[0m \u001b[0mxp\u001b[0m\u001b[0;34m=\u001b[0m\u001b[0mxp\u001b[0m\u001b[0;34m)\u001b[0m\u001b[0;34m\u001b[0m\u001b[0;34m\u001b[0m\u001b[0m\n\u001b[0m        \u001b[0;36marray\u001b[0m \u001b[0;34m=        y_f  m_f  d_f            c_f  birth_b1  height_b1  reach_b1 stance_b1  \\\n2548  2003    9   12        ukraine    1982.0      173.0     183.0  orthodox   \n3572  1999    9   11            usa    1978.0      178.0     180.0  orthodox   \n4863  2009    2    7    west europe    1983.0      170.0     178.0  orthodox   \n4612  2008    9   13            usa    1971.0      168.0     170.0  southpaw   \n513   1999    7   10         mexico    1962.0      173.0     173.0  orthodox   \n...    ...  ...  ...            ...       ...        ...       ...       ...   \n1195  2018    5   12            usa    1987.0      190.0     196.0  orthodox   \n4279  2005    6   17      east asia    1982.0      168.0     173.0  orthodox   \n818   2003    4   10         russia    1983.0      178.0     183.0  orthodox   \n3386  2017    7   21  latin america    1996.0      170.0     173.0  orthodox   \n590   2014    4   12            usa    1981.0      178.0     185.0  orthodox   \n\n     boxstyle_b1      region_b1  ...  b1_d  b1_l  b1_lk  b2_w b2_wk b2_d  \\\n2548     puncher         russia  ...   0.0   2.0    1.0  39.0  26.0  0.0   \n3572    pressure  latin america  ...   6.0  13.0    2.0  50.0  33.0  0.0   \n4863    pressure      argentina  ...   0.0   3.0    2.0  31.0  11.0  0.0   \n4612     counter         caribe  ...   2.0   5.0    1.0  39.0  36.0  0.0   \n513      puncher         mexico  ...   6.0   1.0    1.0  35.0  27.0  3.0   \n...          ...            ...  ...   ...   ...    ...   ...   ...  ...   \n1195    pressure  south america  ...   0.0   1.0    1.0  12.0   6.0  0.0   \n4279     swarmer      east asia  ...   0.0   0.0    0.0  10.0   7.0  0.0   \n818     pressure         russia  ...   0.0   4.0    1.0  18.0  12.0  0.0   \n3386     puncher  south america  ...   0.0   1.0    1.0  16.0   8.0  0.0   \n590      counter  south america  ...   1.0   2.0    1.0  25.0  19.0  1.0   \n\n      b2_l  b2_lk  b1_bet  b2_bet  \n2548   3.0    2.0    0.45    0.12  \n3572   0.0    0.0    0.57    0.09  \n4863   2.0    1.0    0.10    0.17  \n4612   6.0    4.0    0.19    0.16  \n513    3.0    1.0    0.06    0.26  \n...    ...    ...     ...     ...  \n1195   0.0    0.0    0.08    0.07  \n4279   0.0    0.0    0.29    0.19  \n818    2.0    1.0    0.29    0.20  \n3386   1.0    1.0    0.21    0.33  \n590    0.0    0.0    0.14    0.06  \n\n[1461 rows x 28 columns]\u001b[0m\u001b[0;34m\n        \u001b[0m\u001b[0;36mglobal\u001b[0m \u001b[0;36m_asarray_with_order\u001b[0m \u001b[0;34m= <function _asarray_with_order at 0x7ef0b4db0550>\u001b[0m\u001b[0;34m\n        \u001b[0m\u001b[0;36morder\u001b[0m \u001b[0;34m= None\u001b[0m\u001b[0;34m\n        \u001b[0m\u001b[0;36mdtype\u001b[0m \u001b[0;34m= <class 'numpy.float32'>\u001b[0m\u001b[0;34m\n        \u001b[0m\u001b[0;36mxp\u001b[0m \u001b[0;34m= <sklearn.utils._array_api._NumPyApiWrapper object at 0x7ef0ab781630>\u001b[0m\n\u001b[1;32m    880\u001b[0m             \u001b[0;32mexcept\u001b[0m \u001b[0mComplexWarning\u001b[0m \u001b[0;32mas\u001b[0m \u001b[0mcomplex_warning\u001b[0m\u001b[0;34m:\u001b[0m\u001b[0;34m\u001b[0m\u001b[0;34m\u001b[0m\u001b[0m\n\u001b[1;32m    881\u001b[0m                 raise ValueError(\n",
            "\u001b[0;32m/usr/local/lib/python3.10/dist-packages/sklearn/utils/_array_api.py\u001b[0m in \u001b[0;36m_asarray_with_order\u001b[0;34m(array=       y_f  m_f  d_f            c_f  birth_b1  h...  0.0    0.14    0.06  \n\n[1461 rows x 28 columns], dtype=<class 'numpy.float32'>, order=None, copy=None, xp=<sklearn.utils._array_api._NumPyApiWrapper object>)\u001b[0m\n\u001b[1;32m    183\u001b[0m     \u001b[0;32mif\u001b[0m \u001b[0mxp\u001b[0m\u001b[0;34m.\u001b[0m\u001b[0m__name__\u001b[0m \u001b[0;32min\u001b[0m \u001b[0;34m{\u001b[0m\u001b[0;34m\"numpy\"\u001b[0m\u001b[0;34m,\u001b[0m \u001b[0;34m\"numpy.array_api\"\u001b[0m\u001b[0;34m}\u001b[0m\u001b[0;34m:\u001b[0m\u001b[0;34m\u001b[0m\u001b[0;34m\u001b[0m\u001b[0m\n\u001b[1;32m    184\u001b[0m         \u001b[0;31m# Use NumPy API to support order\u001b[0m\u001b[0;34m\u001b[0m\u001b[0;34m\u001b[0m\u001b[0m\n\u001b[0;32m--> 185\u001b[0;31m         \u001b[0marray\u001b[0m \u001b[0;34m=\u001b[0m \u001b[0mnumpy\u001b[0m\u001b[0;34m.\u001b[0m\u001b[0masarray\u001b[0m\u001b[0;34m(\u001b[0m\u001b[0marray\u001b[0m\u001b[0;34m,\u001b[0m \u001b[0morder\u001b[0m\u001b[0;34m=\u001b[0m\u001b[0morder\u001b[0m\u001b[0;34m,\u001b[0m \u001b[0mdtype\u001b[0m\u001b[0;34m=\u001b[0m\u001b[0mdtype\u001b[0m\u001b[0;34m)\u001b[0m\u001b[0;34m\u001b[0m\u001b[0;34m\u001b[0m\u001b[0m\n\u001b[0m        \u001b[0;36marray\u001b[0m \u001b[0;34m=        y_f  m_f  d_f            c_f  birth_b1  height_b1  reach_b1 stance_b1  \\\n2548  2003    9   12        ukraine    1982.0      173.0     183.0  orthodox   \n3572  1999    9   11            usa    1978.0      178.0     180.0  orthodox   \n4863  2009    2    7    west europe    1983.0      170.0     178.0  orthodox   \n4612  2008    9   13            usa    1971.0      168.0     170.0  southpaw   \n513   1999    7   10         mexico    1962.0      173.0     173.0  orthodox   \n...    ...  ...  ...            ...       ...        ...       ...       ...   \n1195  2018    5   12            usa    1987.0      190.0     196.0  orthodox   \n4279  2005    6   17      east asia    1982.0      168.0     173.0  orthodox   \n818   2003    4   10         russia    1983.0      178.0     183.0  orthodox   \n3386  2017    7   21  latin america    1996.0      170.0     173.0  orthodox   \n590   2014    4   12            usa    1981.0      178.0     185.0  orthodox   \n\n     boxstyle_b1      region_b1  ...  b1_d  b1_l  b1_lk  b2_w b2_wk b2_d  \\\n2548     puncher         russia  ...   0.0   2.0    1.0  39.0  26.0  0.0   \n3572    pressure  latin america  ...   6.0  13.0    2.0  50.0  33.0  0.0   \n4863    pressure      argentina  ...   0.0   3.0    2.0  31.0  11.0  0.0   \n4612     counter         caribe  ...   2.0   5.0    1.0  39.0  36.0  0.0   \n513      puncher         mexico  ...   6.0   1.0    1.0  35.0  27.0  3.0   \n...          ...            ...  ...   ...   ...    ...   ...   ...  ...   \n1195    pressure  south america  ...   0.0   1.0    1.0  12.0   6.0  0.0   \n4279     swarmer      east asia  ...   0.0   0.0    0.0  10.0   7.0  0.0   \n818     pressure         russia  ...   0.0   4.0    1.0  18.0  12.0  0.0   \n3386     puncher  south america  ...   0.0   1.0    1.0  16.0   8.0  0.0   \n590      counter  south america  ...   1.0   2.0    1.0  25.0  19.0  1.0   \n\n      b2_l  b2_lk  b1_bet  b2_bet  \n2548   3.0    2.0    0.45    0.12  \n3572   0.0    0.0    0.57    0.09  \n4863   2.0    1.0    0.10    0.17  \n4612   6.0    4.0    0.19    0.16  \n513    3.0    1.0    0.06    0.26  \n...    ...    ...     ...     ...  \n1195   0.0    0.0    0.08    0.07  \n4279   0.0    0.0    0.29    0.19  \n818    2.0    1.0    0.29    0.20  \n3386   1.0    1.0    0.21    0.33  \n590    0.0    0.0    0.14    0.06  \n\n[1461 rows x 28 columns]\u001b[0m\u001b[0;34m\n        \u001b[0m\u001b[0;36mglobal\u001b[0m \u001b[0;36mnumpy.asarray\u001b[0m \u001b[0;34m= <built-in function asarray>\u001b[0m\u001b[0;34m\n        \u001b[0m\u001b[0;36morder\u001b[0m \u001b[0;34m= None\u001b[0m\u001b[0;34m\n        \u001b[0m\u001b[0;36mdtype\u001b[0m \u001b[0;34m= <class 'numpy.float32'>\u001b[0m\n\u001b[1;32m    186\u001b[0m         \u001b[0;32mreturn\u001b[0m \u001b[0mxp\u001b[0m\u001b[0;34m.\u001b[0m\u001b[0masarray\u001b[0m\u001b[0;34m(\u001b[0m\u001b[0marray\u001b[0m\u001b[0;34m,\u001b[0m \u001b[0mcopy\u001b[0m\u001b[0;34m=\u001b[0m\u001b[0mcopy\u001b[0m\u001b[0;34m)\u001b[0m\u001b[0;34m\u001b[0m\u001b[0;34m\u001b[0m\u001b[0m\n\u001b[1;32m    187\u001b[0m     \u001b[0;32melse\u001b[0m\u001b[0;34m:\u001b[0m\u001b[0;34m\u001b[0m\u001b[0;34m\u001b[0m\u001b[0m\n",
            "\u001b[0;32m/usr/local/lib/python3.10/dist-packages/pandas/core/generic.py\u001b[0m in \u001b[0;36m__array__\u001b[0;34m(self=       y_f  m_f  d_f            c_f  birth_b1  h...  0.0    0.14    0.06  \n\n[1461 rows x 28 columns], dtype=dtype('float32'))\u001b[0m\n\u001b[1;32m   2068\u001b[0m \u001b[0;34m\u001b[0m\u001b[0m\n\u001b[1;32m   2069\u001b[0m     \u001b[0;32mdef\u001b[0m \u001b[0m__array__\u001b[0m\u001b[0;34m(\u001b[0m\u001b[0mself\u001b[0m\u001b[0;34m,\u001b[0m \u001b[0mdtype\u001b[0m\u001b[0;34m:\u001b[0m \u001b[0mnpt\u001b[0m\u001b[0;34m.\u001b[0m\u001b[0mDTypeLike\u001b[0m \u001b[0;34m|\u001b[0m \u001b[0;32mNone\u001b[0m \u001b[0;34m=\u001b[0m \u001b[0;32mNone\u001b[0m\u001b[0;34m)\u001b[0m \u001b[0;34m->\u001b[0m \u001b[0mnp\u001b[0m\u001b[0;34m.\u001b[0m\u001b[0mndarray\u001b[0m\u001b[0;34m:\u001b[0m\u001b[0;34m\u001b[0m\u001b[0;34m\u001b[0m\u001b[0m\n\u001b[0;32m-> 2070\u001b[0;31m         \u001b[0;32mreturn\u001b[0m \u001b[0mnp\u001b[0m\u001b[0;34m.\u001b[0m\u001b[0masarray\u001b[0m\u001b[0;34m(\u001b[0m\u001b[0mself\u001b[0m\u001b[0;34m.\u001b[0m\u001b[0m_values\u001b[0m\u001b[0;34m,\u001b[0m \u001b[0mdtype\u001b[0m\u001b[0;34m=\u001b[0m\u001b[0mdtype\u001b[0m\u001b[0;34m)\u001b[0m\u001b[0;34m\u001b[0m\u001b[0;34m\u001b[0m\u001b[0m\n\u001b[0m        \u001b[0;36mglobal\u001b[0m \u001b[0;36mnp.asarray\u001b[0m \u001b[0;34m= <built-in function asarray>\u001b[0m\u001b[0;34m\n        \u001b[0m\u001b[0;36mself._values\u001b[0m \u001b[0;34m= array([[2003, 9, 12, ..., 2.0, 0.45, 0.12],\n       [1999, 9, 11, ..., 0.0, 0.57, 0.09],\n       [2009, 2, 7, ..., 1.0, 0.1, 0.17],\n       ...,\n       [2003, 4, 10, ..., 1.0, 0.29, 0.2],\n       [2017, 7, 21, ..., 1.0, 0.21, 0.33],\n       [2014, 4, 12, ..., 0.0, 0.14, 0.06]], dtype=object)\u001b[0m\u001b[0;34m\n        \u001b[0m\u001b[0;36mdtype\u001b[0m \u001b[0;34m= dtype('float32')\u001b[0m\n\u001b[1;32m   2071\u001b[0m \u001b[0;34m\u001b[0m\u001b[0m\n\u001b[1;32m   2072\u001b[0m     def __array_wrap__(\n",
            "\u001b[0;31mValueError\u001b[0m: could not convert string to float: 'ukraine'"
          ]
        }
      ]
    },
    {
      "cell_type": "code",
      "source": [
        "# model with hyperparameters\n",
        "ranfor_hype = RandomForestClassifier(max_depth=None,\n",
        "                                min_samples_leaf=1,\n",
        "                                min_samples_split=2,\n",
        "                                n_estimators=180)\n",
        "\n",
        "# ranfor hype\n",
        "print('validación cruzada ranfor sobre data xl ranfor hype\\n')\n",
        "cross_val(ranfor_hype, xl_train_scaled, xl_test_scaled,\n",
        "          yl_train.result, yl_test.result)"
      ],
      "metadata": {
        "id": "LL5rDU9Syob6"
      },
      "execution_count": null,
      "outputs": []
    },
    {
      "cell_type": "markdown",
      "source": [
        "#### new preds"
      ],
      "metadata": {
        "id": "OViODtLmk8FV"
      }
    },
    {
      "cell_type": "code",
      "source": [
        "dfnovmas = df[df.y_f > 1994]\n",
        "y_dfnovmas = dfnovmas[['result','endtype','endround']]\n",
        "y_dfnovmas.drop(columns='endround', inplace=True)\n",
        "x_dfnovmas = dfnovmas.drop(columns=['result','endtype','endround'])\n",
        "y_dfnovmas = y_dfnovmas.result.replace({'loss':-1,'win':1})"
      ],
      "metadata": {
        "id": "eRtCphID1MjB"
      },
      "execution_count": null,
      "outputs": []
    },
    {
      "cell_type": "code",
      "source": [
        "dfnovmas.shape"
      ],
      "metadata": {
        "colab": {
          "base_uri": "https://localhost:8080/"
        },
        "id": "UMVKaXjS15dn",
        "outputId": "80a5c6e6-a5ca-4fb4-a142-9a6655fa28cf"
      },
      "execution_count": null,
      "outputs": [
        {
          "output_type": "execute_result",
          "data": {
            "text/plain": [
              "(4426, 31)"
            ]
          },
          "metadata": {},
          "execution_count": 48
        }
      ]
    },
    {
      "cell_type": "code",
      "source": [
        "# feature engineering\n",
        "xtrain_0 = feat_eng(x_dfnovmas)\n",
        "\n",
        "# vectorizacion\n",
        "encoder = One_hot_encoder(vecto_reg, vecto_pos, vecto_style)\n",
        "xtrain_1 = encoder.transform(X=xtrain_0)\n",
        "\n",
        "from sklearn.cluster import KMeans\n",
        "\n",
        "clus = KMeans(n_clusters=5, random_state=10)\n",
        "clus.fit(xtrain_1)\n",
        "cluster = Data_clusterer(clus)\n",
        "xtrain_2 = cluster.transform(xtrain_1)\n",
        "\n",
        "from sklearn.preprocessing import StandardScaler\n",
        "\n",
        "scaler = StandardScaler()\n",
        "xtrain_3 = scaler.fit_transform(xtrain_2)\n",
        "\n",
        "from sklearn.ensemble import RandomForestClassifier\n",
        "\n",
        "ranfor = RandomForestClassifier(max_depth=None, min_samples_leaf=1, min_samples_split=3, n_estimators=117)\n",
        "\n",
        "ranfor.fit(xtrain_3, y_dfnovmas)"
      ],
      "metadata": {
        "colab": {
          "base_uri": "https://localhost:8080/",
          "height": 75
        },
        "id": "V-fFl5FaBHLq",
        "outputId": "8ed0043a-e8d6-44de-cc25-a4326f660993"
      },
      "execution_count": null,
      "outputs": [
        {
          "output_type": "execute_result",
          "data": {
            "text/plain": [
              "RandomForestClassifier(min_samples_split=3, n_estimators=117)"
            ],
            "text/html": [
              "<style>#sk-container-id-7 {color: black;background-color: white;}#sk-container-id-7 pre{padding: 0;}#sk-container-id-7 div.sk-toggleable {background-color: white;}#sk-container-id-7 label.sk-toggleable__label {cursor: pointer;display: block;width: 100%;margin-bottom: 0;padding: 0.3em;box-sizing: border-box;text-align: center;}#sk-container-id-7 label.sk-toggleable__label-arrow:before {content: \"▸\";float: left;margin-right: 0.25em;color: #696969;}#sk-container-id-7 label.sk-toggleable__label-arrow:hover:before {color: black;}#sk-container-id-7 div.sk-estimator:hover label.sk-toggleable__label-arrow:before {color: black;}#sk-container-id-7 div.sk-toggleable__content {max-height: 0;max-width: 0;overflow: hidden;text-align: left;background-color: #f0f8ff;}#sk-container-id-7 div.sk-toggleable__content pre {margin: 0.2em;color: black;border-radius: 0.25em;background-color: #f0f8ff;}#sk-container-id-7 input.sk-toggleable__control:checked~div.sk-toggleable__content {max-height: 200px;max-width: 100%;overflow: auto;}#sk-container-id-7 input.sk-toggleable__control:checked~label.sk-toggleable__label-arrow:before {content: \"▾\";}#sk-container-id-7 div.sk-estimator input.sk-toggleable__control:checked~label.sk-toggleable__label {background-color: #d4ebff;}#sk-container-id-7 div.sk-label input.sk-toggleable__control:checked~label.sk-toggleable__label {background-color: #d4ebff;}#sk-container-id-7 input.sk-hidden--visually {border: 0;clip: rect(1px 1px 1px 1px);clip: rect(1px, 1px, 1px, 1px);height: 1px;margin: -1px;overflow: hidden;padding: 0;position: absolute;width: 1px;}#sk-container-id-7 div.sk-estimator {font-family: monospace;background-color: #f0f8ff;border: 1px dotted black;border-radius: 0.25em;box-sizing: border-box;margin-bottom: 0.5em;}#sk-container-id-7 div.sk-estimator:hover {background-color: #d4ebff;}#sk-container-id-7 div.sk-parallel-item::after {content: \"\";width: 100%;border-bottom: 1px solid gray;flex-grow: 1;}#sk-container-id-7 div.sk-label:hover label.sk-toggleable__label {background-color: #d4ebff;}#sk-container-id-7 div.sk-serial::before {content: \"\";position: absolute;border-left: 1px solid gray;box-sizing: border-box;top: 0;bottom: 0;left: 50%;z-index: 0;}#sk-container-id-7 div.sk-serial {display: flex;flex-direction: column;align-items: center;background-color: white;padding-right: 0.2em;padding-left: 0.2em;position: relative;}#sk-container-id-7 div.sk-item {position: relative;z-index: 1;}#sk-container-id-7 div.sk-parallel {display: flex;align-items: stretch;justify-content: center;background-color: white;position: relative;}#sk-container-id-7 div.sk-item::before, #sk-container-id-7 div.sk-parallel-item::before {content: \"\";position: absolute;border-left: 1px solid gray;box-sizing: border-box;top: 0;bottom: 0;left: 50%;z-index: -1;}#sk-container-id-7 div.sk-parallel-item {display: flex;flex-direction: column;z-index: 1;position: relative;background-color: white;}#sk-container-id-7 div.sk-parallel-item:first-child::after {align-self: flex-end;width: 50%;}#sk-container-id-7 div.sk-parallel-item:last-child::after {align-self: flex-start;width: 50%;}#sk-container-id-7 div.sk-parallel-item:only-child::after {width: 0;}#sk-container-id-7 div.sk-dashed-wrapped {border: 1px dashed gray;margin: 0 0.4em 0.5em 0.4em;box-sizing: border-box;padding-bottom: 0.4em;background-color: white;}#sk-container-id-7 div.sk-label label {font-family: monospace;font-weight: bold;display: inline-block;line-height: 1.2em;}#sk-container-id-7 div.sk-label-container {text-align: center;}#sk-container-id-7 div.sk-container {/* jupyter's `normalize.less` sets `[hidden] { display: none; }` but bootstrap.min.css set `[hidden] { display: none !important; }` so we also need the `!important` here to be able to override the default hidden behavior on the sphinx rendered scikit-learn.org. See: https://github.com/scikit-learn/scikit-learn/issues/21755 */display: inline-block !important;position: relative;}#sk-container-id-7 div.sk-text-repr-fallback {display: none;}</style><div id=\"sk-container-id-7\" class=\"sk-top-container\"><div class=\"sk-text-repr-fallback\"><pre>RandomForestClassifier(min_samples_split=3, n_estimators=117)</pre><b>In a Jupyter environment, please rerun this cell to show the HTML representation or trust the notebook. <br />On GitHub, the HTML representation is unable to render, please try loading this page with nbviewer.org.</b></div><div class=\"sk-container\" hidden><div class=\"sk-item\"><div class=\"sk-estimator sk-toggleable\"><input class=\"sk-toggleable__control sk-hidden--visually\" id=\"sk-estimator-id-7\" type=\"checkbox\" checked><label for=\"sk-estimator-id-7\" class=\"sk-toggleable__label sk-toggleable__label-arrow\">RandomForestClassifier</label><div class=\"sk-toggleable__content\"><pre>RandomForestClassifier(min_samples_split=3, n_estimators=117)</pre></div></div></div></div></div>"
            ]
          },
          "metadata": {},
          "execution_count": 57
        }
      ]
    },
    {
      "cell_type": "code",
      "source": [
        "# modelo fit in xl, aun no toda la data\n",
        "model = ranfor\n",
        "# df = pd.read_csv('/content/box_data_duplicated_not_draw_feat_eng_vectorized.csv').iloc[:,3:]\n",
        "newdf = pd.read_csv('/content/base_datos_peleas_new - Hoja 1.csv')\n",
        "pelea = newdf.iloc[:,0:5]\n",
        "test_df = newdf.iloc[:,5:]"
      ],
      "metadata": {
        "id": "Zy6llW6HXc8o"
      },
      "execution_count": null,
      "outputs": []
    },
    {
      "cell_type": "code",
      "source": [
        "# feature engineering\n",
        "test_df = feat_eng(test_df)\n",
        "\n",
        "# vectorizacion\n",
        "test_df = encoder.transform(test_df)\n",
        "\n",
        "# cluster scal and pred\n",
        "test_df_clus = cluster.transform(test_df)\n",
        "test_df_scal = scaler.transform(test_df_clus)\n",
        "test_df_pred = Model_applied(model).transform(test_df_scal)"
      ],
      "metadata": {
        "id": "dNsJ4rIB-Txg"
      },
      "execution_count": null,
      "outputs": []
    },
    {
      "cell_type": "code",
      "source": [
        "temp = test_df_clus[['birth_b1','height_b1','reach_b1','birth_b2',\n",
        "       'height_b2','reach_b2','b1_w','b1_wk','b1_d','b1_l','b1_lk','b2_w','b2_wk','b2_d','b2_l',\n",
        "       'b2_lk','b1_bet','b2_bet','cluster']]"
      ],
      "metadata": {
        "id": "wnx_TpE1Luxs"
      },
      "execution_count": null,
      "outputs": []
    },
    {
      "cell_type": "code",
      "source": [
        "pd.concat([pelea, test_df_pred, temp['cluster']], axis=1)"
      ],
      "metadata": {
        "id": "aplLFglFWvy3",
        "outputId": "cc03ccc1-df95-4e64-eeb9-2035a151d4b6",
        "colab": {
          "base_uri": "https://localhost:8080/",
          "height": 332
        }
      },
      "execution_count": null,
      "outputs": [
        {
          "output_type": "execute_result",
          "data": {
            "text/plain": [
              "  result  end_round end_type           boxer1              boxer2  \\\n",
              "0    win       12.0     desc           canelo          jhon ryder   \n",
              "1    win        7.0       ko              gtd         ryan garcia   \n",
              "2    win       12.0     desc      devin haney          lomachenko   \n",
              "3    win       12.0     desc       josh kelly       gabriel corzo   \n",
              "4    win       12.0     desc        andy cruz  juan carlos burgos   \n",
              "5    win       12.0     desc  george kambosos         maxi hughes   \n",
              "6   loss        8.0       ko   stephen fulton         naoya inoue   \n",
              "7    win        5.0       ko  robeisy ramirez     satoshi shimizu   \n",
              "8    NaN        NaN      NaN        jake paul           nate diaz   \n",
              "\n",
              "   boxer1_pred  prob_win  prob_loss  cluster  \n",
              "0            1  0.556980   0.443020        2  \n",
              "1            1  0.695869   0.304131        1  \n",
              "2            1  0.655271   0.344729        1  \n",
              "3            1  0.629630   0.370370        1  \n",
              "4            1  0.517094   0.482906        1  \n",
              "5            1  0.658832   0.341168        1  \n",
              "6            1  0.507835   0.492165        1  \n",
              "7            1  0.501994   0.498006        1  \n",
              "8            1  0.563818   0.436182        1  "
            ],
            "text/html": [
              "\n",
              "\n",
              "  <div id=\"df-0cf803e8-1a69-4f51-bc22-d8a128f51196\">\n",
              "    <div class=\"colab-df-container\">\n",
              "      <div>\n",
              "<style scoped>\n",
              "    .dataframe tbody tr th:only-of-type {\n",
              "        vertical-align: middle;\n",
              "    }\n",
              "\n",
              "    .dataframe tbody tr th {\n",
              "        vertical-align: top;\n",
              "    }\n",
              "\n",
              "    .dataframe thead th {\n",
              "        text-align: right;\n",
              "    }\n",
              "</style>\n",
              "<table border=\"1\" class=\"dataframe\">\n",
              "  <thead>\n",
              "    <tr style=\"text-align: right;\">\n",
              "      <th></th>\n",
              "      <th>result</th>\n",
              "      <th>end_round</th>\n",
              "      <th>end_type</th>\n",
              "      <th>boxer1</th>\n",
              "      <th>boxer2</th>\n",
              "      <th>boxer1_pred</th>\n",
              "      <th>prob_win</th>\n",
              "      <th>prob_loss</th>\n",
              "      <th>cluster</th>\n",
              "    </tr>\n",
              "  </thead>\n",
              "  <tbody>\n",
              "    <tr>\n",
              "      <th>0</th>\n",
              "      <td>win</td>\n",
              "      <td>12.0</td>\n",
              "      <td>desc</td>\n",
              "      <td>canelo</td>\n",
              "      <td>jhon ryder</td>\n",
              "      <td>1</td>\n",
              "      <td>0.556980</td>\n",
              "      <td>0.443020</td>\n",
              "      <td>2</td>\n",
              "    </tr>\n",
              "    <tr>\n",
              "      <th>1</th>\n",
              "      <td>win</td>\n",
              "      <td>7.0</td>\n",
              "      <td>ko</td>\n",
              "      <td>gtd</td>\n",
              "      <td>ryan garcia</td>\n",
              "      <td>1</td>\n",
              "      <td>0.695869</td>\n",
              "      <td>0.304131</td>\n",
              "      <td>1</td>\n",
              "    </tr>\n",
              "    <tr>\n",
              "      <th>2</th>\n",
              "      <td>win</td>\n",
              "      <td>12.0</td>\n",
              "      <td>desc</td>\n",
              "      <td>devin haney</td>\n",
              "      <td>lomachenko</td>\n",
              "      <td>1</td>\n",
              "      <td>0.655271</td>\n",
              "      <td>0.344729</td>\n",
              "      <td>1</td>\n",
              "    </tr>\n",
              "    <tr>\n",
              "      <th>3</th>\n",
              "      <td>win</td>\n",
              "      <td>12.0</td>\n",
              "      <td>desc</td>\n",
              "      <td>josh kelly</td>\n",
              "      <td>gabriel corzo</td>\n",
              "      <td>1</td>\n",
              "      <td>0.629630</td>\n",
              "      <td>0.370370</td>\n",
              "      <td>1</td>\n",
              "    </tr>\n",
              "    <tr>\n",
              "      <th>4</th>\n",
              "      <td>win</td>\n",
              "      <td>12.0</td>\n",
              "      <td>desc</td>\n",
              "      <td>andy cruz</td>\n",
              "      <td>juan carlos burgos</td>\n",
              "      <td>1</td>\n",
              "      <td>0.517094</td>\n",
              "      <td>0.482906</td>\n",
              "      <td>1</td>\n",
              "    </tr>\n",
              "    <tr>\n",
              "      <th>5</th>\n",
              "      <td>win</td>\n",
              "      <td>12.0</td>\n",
              "      <td>desc</td>\n",
              "      <td>george kambosos</td>\n",
              "      <td>maxi hughes</td>\n",
              "      <td>1</td>\n",
              "      <td>0.658832</td>\n",
              "      <td>0.341168</td>\n",
              "      <td>1</td>\n",
              "    </tr>\n",
              "    <tr>\n",
              "      <th>6</th>\n",
              "      <td>loss</td>\n",
              "      <td>8.0</td>\n",
              "      <td>ko</td>\n",
              "      <td>stephen fulton</td>\n",
              "      <td>naoya inoue</td>\n",
              "      <td>1</td>\n",
              "      <td>0.507835</td>\n",
              "      <td>0.492165</td>\n",
              "      <td>1</td>\n",
              "    </tr>\n",
              "    <tr>\n",
              "      <th>7</th>\n",
              "      <td>win</td>\n",
              "      <td>5.0</td>\n",
              "      <td>ko</td>\n",
              "      <td>robeisy ramirez</td>\n",
              "      <td>satoshi shimizu</td>\n",
              "      <td>1</td>\n",
              "      <td>0.501994</td>\n",
              "      <td>0.498006</td>\n",
              "      <td>1</td>\n",
              "    </tr>\n",
              "    <tr>\n",
              "      <th>8</th>\n",
              "      <td>NaN</td>\n",
              "      <td>NaN</td>\n",
              "      <td>NaN</td>\n",
              "      <td>jake paul</td>\n",
              "      <td>nate diaz</td>\n",
              "      <td>1</td>\n",
              "      <td>0.563818</td>\n",
              "      <td>0.436182</td>\n",
              "      <td>1</td>\n",
              "    </tr>\n",
              "  </tbody>\n",
              "</table>\n",
              "</div>\n",
              "      <button class=\"colab-df-convert\" onclick=\"convertToInteractive('df-0cf803e8-1a69-4f51-bc22-d8a128f51196')\"\n",
              "              title=\"Convert this dataframe to an interactive table.\"\n",
              "              style=\"display:none;\">\n",
              "\n",
              "  <svg xmlns=\"http://www.w3.org/2000/svg\" height=\"24px\"viewBox=\"0 0 24 24\"\n",
              "       width=\"24px\">\n",
              "    <path d=\"M0 0h24v24H0V0z\" fill=\"none\"/>\n",
              "    <path d=\"M18.56 5.44l.94 2.06.94-2.06 2.06-.94-2.06-.94-.94-2.06-.94 2.06-2.06.94zm-11 1L8.5 8.5l.94-2.06 2.06-.94-2.06-.94L8.5 2.5l-.94 2.06-2.06.94zm10 10l.94 2.06.94-2.06 2.06-.94-2.06-.94-.94-2.06-.94 2.06-2.06.94z\"/><path d=\"M17.41 7.96l-1.37-1.37c-.4-.4-.92-.59-1.43-.59-.52 0-1.04.2-1.43.59L10.3 9.45l-7.72 7.72c-.78.78-.78 2.05 0 2.83L4 21.41c.39.39.9.59 1.41.59.51 0 1.02-.2 1.41-.59l7.78-7.78 2.81-2.81c.8-.78.8-2.07 0-2.86zM5.41 20L4 18.59l7.72-7.72 1.47 1.35L5.41 20z\"/>\n",
              "  </svg>\n",
              "      </button>\n",
              "\n",
              "\n",
              "\n",
              "    <div id=\"df-1e39c2cc-8e7f-40df-b2b2-967a0d02531d\">\n",
              "      <button class=\"colab-df-quickchart\" onclick=\"quickchart('df-1e39c2cc-8e7f-40df-b2b2-967a0d02531d')\"\n",
              "              title=\"Suggest charts.\"\n",
              "              style=\"display:none;\">\n",
              "\n",
              "<svg xmlns=\"http://www.w3.org/2000/svg\" height=\"24px\"viewBox=\"0 0 24 24\"\n",
              "     width=\"24px\">\n",
              "    <g>\n",
              "        <path d=\"M19 3H5c-1.1 0-2 .9-2 2v14c0 1.1.9 2 2 2h14c1.1 0 2-.9 2-2V5c0-1.1-.9-2-2-2zM9 17H7v-7h2v7zm4 0h-2V7h2v10zm4 0h-2v-4h2v4z\"/>\n",
              "    </g>\n",
              "</svg>\n",
              "      </button>\n",
              "    </div>\n",
              "\n",
              "<style>\n",
              "  .colab-df-quickchart {\n",
              "    background-color: #E8F0FE;\n",
              "    border: none;\n",
              "    border-radius: 50%;\n",
              "    cursor: pointer;\n",
              "    display: none;\n",
              "    fill: #1967D2;\n",
              "    height: 32px;\n",
              "    padding: 0 0 0 0;\n",
              "    width: 32px;\n",
              "  }\n",
              "\n",
              "  .colab-df-quickchart:hover {\n",
              "    background-color: #E2EBFA;\n",
              "    box-shadow: 0px 1px 2px rgba(60, 64, 67, 0.3), 0px 1px 3px 1px rgba(60, 64, 67, 0.15);\n",
              "    fill: #174EA6;\n",
              "  }\n",
              "\n",
              "  [theme=dark] .colab-df-quickchart {\n",
              "    background-color: #3B4455;\n",
              "    fill: #D2E3FC;\n",
              "  }\n",
              "\n",
              "  [theme=dark] .colab-df-quickchart:hover {\n",
              "    background-color: #434B5C;\n",
              "    box-shadow: 0px 1px 3px 1px rgba(0, 0, 0, 0.15);\n",
              "    filter: drop-shadow(0px 1px 2px rgba(0, 0, 0, 0.3));\n",
              "    fill: #FFFFFF;\n",
              "  }\n",
              "</style>\n",
              "\n",
              "    <script>\n",
              "      async function quickchart(key) {\n",
              "        const containerElement = document.querySelector('#' + key);\n",
              "        const charts = await google.colab.kernel.invokeFunction(\n",
              "            'suggestCharts', [key], {});\n",
              "      }\n",
              "    </script>\n",
              "\n",
              "      <script>\n",
              "\n",
              "function displayQuickchartButton(domScope) {\n",
              "  let quickchartButtonEl =\n",
              "    domScope.querySelector('#df-1e39c2cc-8e7f-40df-b2b2-967a0d02531d button.colab-df-quickchart');\n",
              "  quickchartButtonEl.style.display =\n",
              "    google.colab.kernel.accessAllowed ? 'block' : 'none';\n",
              "}\n",
              "\n",
              "        displayQuickchartButton(document);\n",
              "      </script>\n",
              "      <style>\n",
              "    .colab-df-container {\n",
              "      display:flex;\n",
              "      flex-wrap:wrap;\n",
              "      gap: 12px;\n",
              "    }\n",
              "\n",
              "    .colab-df-convert {\n",
              "      background-color: #E8F0FE;\n",
              "      border: none;\n",
              "      border-radius: 50%;\n",
              "      cursor: pointer;\n",
              "      display: none;\n",
              "      fill: #1967D2;\n",
              "      height: 32px;\n",
              "      padding: 0 0 0 0;\n",
              "      width: 32px;\n",
              "    }\n",
              "\n",
              "    .colab-df-convert:hover {\n",
              "      background-color: #E2EBFA;\n",
              "      box-shadow: 0px 1px 2px rgba(60, 64, 67, 0.3), 0px 1px 3px 1px rgba(60, 64, 67, 0.15);\n",
              "      fill: #174EA6;\n",
              "    }\n",
              "\n",
              "    [theme=dark] .colab-df-convert {\n",
              "      background-color: #3B4455;\n",
              "      fill: #D2E3FC;\n",
              "    }\n",
              "\n",
              "    [theme=dark] .colab-df-convert:hover {\n",
              "      background-color: #434B5C;\n",
              "      box-shadow: 0px 1px 3px 1px rgba(0, 0, 0, 0.15);\n",
              "      filter: drop-shadow(0px 1px 2px rgba(0, 0, 0, 0.3));\n",
              "      fill: #FFFFFF;\n",
              "    }\n",
              "  </style>\n",
              "\n",
              "      <script>\n",
              "        const buttonEl =\n",
              "          document.querySelector('#df-0cf803e8-1a69-4f51-bc22-d8a128f51196 button.colab-df-convert');\n",
              "        buttonEl.style.display =\n",
              "          google.colab.kernel.accessAllowed ? 'block' : 'none';\n",
              "\n",
              "        async function convertToInteractive(key) {\n",
              "          const element = document.querySelector('#df-0cf803e8-1a69-4f51-bc22-d8a128f51196');\n",
              "          const dataTable =\n",
              "            await google.colab.kernel.invokeFunction('convertToInteractive',\n",
              "                                                     [key], {});\n",
              "          if (!dataTable) return;\n",
              "\n",
              "          const docLinkHtml = 'Like what you see? Visit the ' +\n",
              "            '<a target=\"_blank\" href=https://colab.research.google.com/notebooks/data_table.ipynb>data table notebook</a>'\n",
              "            + ' to learn more about interactive tables.';\n",
              "          element.innerHTML = '';\n",
              "          dataTable['output_type'] = 'display_data';\n",
              "          await google.colab.output.renderOutput(dataTable, element);\n",
              "          const docLink = document.createElement('div');\n",
              "          docLink.innerHTML = docLinkHtml;\n",
              "          element.appendChild(docLink);\n",
              "        }\n",
              "      </script>\n",
              "    </div>\n",
              "  </div>\n"
            ]
          },
          "metadata": {},
          "execution_count": 62
        }
      ]
    }
  ]
}